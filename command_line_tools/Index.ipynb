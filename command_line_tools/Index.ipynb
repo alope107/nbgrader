{
 "cells": [
  {
   "cell_type": "markdown",
   "metadata": {},
   "source": [
    "# Command line tools for `nbgrader`"
   ]
  },
  {
   "cell_type": "markdown",
   "metadata": {},
   "source": [
    "nbgrader provides several command line tools to help you release and grade assignments:\n",
    "\n",
    "1. [`nbgrader assign`](nbgrader assign.ipynb)\n",
    "1. [`nbgrader validate`](nbgrader validate.ipynb)\n",
    "1. [`nbgrader submit`](nbgrader submit.ipynb)\n",
    "1. [`nbgrader autograde`](nbgrader autograde.ipynb)\n",
    "1. [`nbgrader formgrade`](nbgrader formgrade.ipynb)"
   ]
  }
 ],
 "metadata": {
  "kernelspec": {
   "display_name": "IPython (Python 3)",
   "name": "python3"
  },
  "language_info": {
   "codemirror_mode": {
    "name": "ipython",
    "version": 3
   },
   "mimetype": "text/x-python",
   "name": "python",
   "pygments_lexer": "ipython3"
  }
 },
 "nbformat": 4,
 "nbformat_minor": 0
}