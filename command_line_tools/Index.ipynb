{
 "cells": [
  {
   "cell_type": "markdown",
   "metadata": {},
   "source": [
    "# Command line tools for `nbgrader`"
   ]
  },
  {
   "cell_type": "markdown",
   "metadata": {},
   "source": [
    "nbgrader provides several command line tools to help you release and grade assignments:\n",
    "\n",
    "1. [`nbgrader assign`](nbgrader assign.ipynb)\n",
    "1. [`nbgrader validate`](nbgrader validate.ipynb)\n",
    "1. [`nbgrader submit`](nbgrader submit.ipynb)\n",
    "1. [`nbgrader autograde`](nbgrader autograde.ipynb)\n",
    "1. [`nbgrader formgrade`](nbgrader formgrade.ipynb)\n",
    "1. [`nbgrader feedback`](nbgrader feedback.ipynb)"
   ]
  }
 ],
 "metadata": {},
 "nbformat": 4,
 "nbformat_minor": 0
}