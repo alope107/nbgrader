{
 "cells": [
  {
   "cell_type": "markdown",
   "metadata": {},
   "source": [
    "# `nbgrader submit`"
   ]
  },
  {
   "cell_type": "code",
   "execution_count": 1,
   "metadata": {
    "collapsed": false
   },
   "outputs": [
    {
     "name": "stdout",
     "output_type": "stream",
     "text": [
      "Traceback (most recent call last):\r\n",
      "  File \"/usr/local/bin/nbgrader\", line 4, in <module>\r\n",
      "    __import__('pkg_resources').require('nbgrader==0.1')\r\n",
      "  File \"build/bdist.macosx-10.10-x86_64/egg/pkg_resources/__init__.py\", line 3018, in <module>\r\n",
      "  File \"build/bdist.macosx-10.10-x86_64/egg/pkg_resources/__init__.py\", line 612, in _build_master\r\n",
      "  File \"build/bdist.macosx-10.10-x86_64/egg/pkg_resources/__init__.py\", line 918, in require\r\n",
      "  File \"build/bdist.macosx-10.10-x86_64/egg/pkg_resources/__init__.py\", line 805, in resolve\r\n",
      "pkg_resources.DistributionNotFound: nbgrader==0.1\r\n"
     ]
    }
   ],
   "source": [
    "!nbgrader submit --help-all"
   ]
  }
 ],
 "metadata": {
  "kernelspec": {
   "display_name": "IPython (Python 3)",
   "name": "python3"
  },
  "language_info": {
   "codemirror_mode": {
    "name": "ipython",
    "version": 3
   },
   "mimetype": "text/x-python",
   "name": "python",
   "pygments_lexer": "ipython3"
  }
 },
 "nbformat": 4,
 "nbformat_minor": 0
}