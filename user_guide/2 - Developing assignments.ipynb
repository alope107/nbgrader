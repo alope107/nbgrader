{
 "cells": [
  {
   "cell_type": "markdown",
   "metadata": {},
   "source": [
    "# Developing assignments with the assignment toolbar"
   ]
  },
  {
   "cell_type": "markdown",
   "metadata": {},
   "source": [
    "**Note**: As you are developing your assignments, you should save them into the `source/{assignment_id}/` folder of the nbgrader hierarchy, where `assignment_id` is the name of the assignment you are creating (e.g. \"Problem Set 1\"). See [the philosophy and the approach](1 - Philosophy.ipynb) for more details."
   ]
  },
  {
   "cell_type": "markdown",
   "metadata": {},
   "source": [
    "---\n",
    "\n",
    "Before you can begin developing assignments, you will need to actually install the nbgrader toolbar. If you do not have it installed, please first follow the instructions [here](https://github.com/jupyter/nbgrader). Once the toolbar has been installed, you should see it in the drop down \"Cell toolbar\" menu:\n",
    "\n",
    "![](images/select_assignment_toolbar.png)\n",
    "\n",
    "Selecting the \"Create Assignment\" toolbar will create a separate toolbar for each cell. By default, this consists of two checkboxes:\n",
    "\n",
    "![](images/assignment_toolbar.png)"
   ]
  },
  {
   "cell_type": "markdown",
   "metadata": {},
   "source": [
    "## \"Grade\" cells"
   ]
  },
  {
   "cell_type": "markdown",
   "metadata": {},
   "source": [
    "If you select the \"Grade?\" checkbox for a cell, it will mark that cell as a \"grader\" cell. Grader cells are either code cells that will be run by the autograder, or text cells that will be graded by hand by a human grader. Regardless of cell type, all grader cells should have an id, and a point value, which can be specified through the toolbar:\n",
    "\n",
    "![](images/grader_cell.png)\n",
    "\n",
    "Grader code cells should contain `assert` statements (or similar). When run through the autograder, the cell will pass if no errors are raised, and fail otherwise."
   ]
  },
  {
   "cell_type": "markdown",
   "metadata": {},
   "source": [
    "## \"Solution\" cells"
   ]
  },
  {
   "cell_type": "markdown",
   "metadata": {},
   "source": [
    "If you select the \"Solution?\" checkbox for a cell, it will mark that cell as a \"solution\" cell. When creating the [release version](3 - Releasing assignments.ipynb) of the assignment, the bodies of solution cells will be replaced with a code or text stub indicating to the students that they should put their answer or solution there.\n",
    "\n",
    "Cells can be both grader and solution cells. This case arises with written answers, for example, because the cell contains both the solution to the problem, but still needs to be graded by hand by a human grader:\n",
    "\n",
    "![](images/grader_and_solution_cell.png)\n",
    "\n",
    "Solutions can also be specified inline, through the use of a special syntax such as `### BEGIN SOLUTION` and `### END SOLUTION`. For example:\n",
    "\n",
    "![](images/solution_cell.png)\n",
    "\n",
    "When creating the [release version](3 - Releasing assignments.ipynb), the region between the special syntax lines will be replaced with the code or text stub.\n",
    "\n",
    "Even if cells with the inline syntax are be marked as solution cells with the checkbox, only the designated region will be replaced with the stub, rather than the entire cell contents."
   ]
  }
 ],
 "metadata": {},
 "nbformat": 4,
 "nbformat_minor": 0
}