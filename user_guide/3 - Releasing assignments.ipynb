{
 "cells": [
  {
   "cell_type": "markdown",
   "metadata": {},
   "source": [
    "# Releasing an assignment"
   ]
  },
  {
   "cell_type": "markdown",
   "metadata": {},
   "source": [
    "**These instructions are currently incomplete**.\n",
    "\n",
    "Creating the release version of an assignment consists of creating a\n",
    "student version of a notebook that has solutions omited, based on an already created teacher, or master, version.\n",
    "\n",
    "To create the master/teacher notebook that has exercises, solutions and tests, see the documentation on the [\"Create Assignment\" extension](2 - Developing assignments.ipynb). \n",
    "\n",
    "In the `release_example` directory we have an two example master/teacher notebooks:\n",
    "\n",
    "* [Problem 1](release_example/teacher/Problem 1.ipynb)\n",
    "* [Problem 2](release_example/teacher/Problem 2.ipynb)\n",
    "\n",
    "There is also a [header notebook](release_example/header.ipynb) which will be prepended to the teacher notebooks in the release version."
   ]
  },
  {
   "cell_type": "code",
   "execution_count": 1,
   "metadata": {
    "collapsed": false
   },
   "outputs": [
    {
     "name": "stdout",
     "output_type": "stream",
     "text": [
      "/home/travis/build/jupyter/nbgrader/user_guide/release_example\n"
     ]
    }
   ],
   "source": [
    "cd release_example"
   ]
  },
  {
   "cell_type": "code",
   "execution_count": 2,
   "metadata": {
    "collapsed": false
   },
   "outputs": [
    {
     "name": "stdout",
     "output_type": "stream",
     "text": [
      ".:\r\n",
      "header.ipynb  teacher\r\n",
      "\r\n",
      "./teacher:\r\n",
      "Problem 1.ipynb  Problem 2.ipynb\r\n"
     ]
    }
   ],
   "source": [
    "!ls -R"
   ]
  },
  {
   "cell_type": "markdown",
   "metadata": {},
   "source": [
    "Now, to create the release version, all we have to do is to run the following command. This command specifies that:\n",
    "\n",
    "* we should include all the notebooks in the `teacher` directory\n",
    "* we should copy them to the `student` directory\n",
    "* the header file is `header.ipynb` (this file will be prepended to the beginning of the assignment files)\n",
    "\n",
    "For other options, please see the [`nbgrader assign` documentation](../command_line_tools/nbgrader assign.ipynb)."
   ]
  },
  {
   "cell_type": "code",
   "execution_count": 3,
   "metadata": {
    "collapsed": false,
    "scrolled": true
   },
   "outputs": [
    {
     "name": "stderr",
     "output_type": "stream",
     "text": [
      "[AssignApp] Created profile dir: '/home/travis/.ipython/profile_nbgrader'\n",
      "[AssignApp] WARNING | Generating default config file: '/home/travis/.ipython/profile_nbgrader/nbgrader_assign_config.py'\n",
      "[NbGraderApp] WARNING | Generating default config file: '/home/travis/.ipython/profile_nbgrader/nbgrader_config.py'\n",
      "[AssignApp] Converting notebook teacher/Problem 1.ipynb to assignment\n",
      "[AssignApp] Support files will be in Problem 1_files/\n",
      "[AssignApp] Writing 9881 bytes to student/Problem 1.ipynb\n",
      "[AssignApp] Converting notebook teacher/Problem 2.ipynb to assignment\n",
      "[AssignApp] Support files will be in Problem 2_files/\n",
      "[AssignApp] Writing 2704 bytes to student/Problem 2.ipynb\n"
     ]
    }
   ],
   "source": [
    "%%bash\n",
    "\n",
    "nbgrader assign teacher/*.ipynb \\\n",
    "    --build-dir=student \\\n",
    "    --IncludeHeaderFooter.header=header.ipynb"
   ]
  },
  {
   "cell_type": "markdown",
   "metadata": {},
   "source": [
    "These are the resulting student notebooks:\n",
    "\n",
    "* [Problem 1](release_example/student/Problem 1.ipynb)\n",
    "* [Problem 2](release_example/student/Problem 2.ipynb)\n",
    "\n",
    "They are versions of the assignment that can be distributed to the students, who can fill out the relevant locations of the notebook with their solutions, and eventually turn it back in."
   ]
  },
  {
   "cell_type": "markdown",
   "metadata": {},
   "source": [
    "## Recording grade cells"
   ]
  },
  {
   "cell_type": "markdown",
   "metadata": {},
   "source": [
    "If you want to record information about grade cells into the database (for example, to then use those grades and point values, rather than the ones in the notebooks students have returned), then you can optionally run `nbgrader assign` with the `--save-cells` flag."
   ]
  },
  {
   "cell_type": "markdown",
   "metadata": {},
   "source": [
    "Before we can run this command, though, we need to actually what the assignment is that we're recording grade cells for. We can do this using the API provided by nbgrader, which provides access to a database to store information about students and their grades:"
   ]
  },
  {
   "cell_type": "code",
   "execution_count": 4,
   "metadata": {
    "collapsed": false
   },
   "outputs": [],
   "source": [
    "# remove an existing database\n",
    "import os\n",
    "dbpath = \"/tmp/nbgrader_example.db\"\n",
    "if os.path.exists(dbpath):\n",
    "    os.remove(dbpath)\n",
    "\n",
    "# create a connection to the db using the nbgrader API\n",
    "from nbgrader.api import Gradebook\n",
    "gb = Gradebook(\"sqlite:///\" + dbpath)"
   ]
  },
  {
   "cell_type": "code",
   "execution_count": 5,
   "metadata": {
    "collapsed": false
   },
   "outputs": [
    {
     "data": {
      "text/plain": [
       "Problem Set 1"
      ]
     },
     "execution_count": 5,
     "metadata": {},
     "output_type": "execute_result"
    }
   ],
   "source": [
    "# add the assignment to the database\n",
    "gb.add_assignment(\"Problem Set 1\")"
   ]
  },
  {
   "cell_type": "markdown",
   "metadata": {},
   "source": [
    "Now, we can run our `nbgrader` command. Note that in addition to `--save-cells`, we need to specify the name of the assignment (which should be the same as the one in the database) and the name of the database (which should be the same as the one we just created):"
   ]
  },
  {
   "cell_type": "code",
   "execution_count": 6,
   "metadata": {
    "collapsed": false
   },
   "outputs": [
    {
     "name": "stderr",
     "output_type": "stream",
     "text": [
      "[AssignApp] Using existing profile dir: '/home/travis/.ipython/profile_nbgrader'\n",
      "[AssignApp] Converting notebook teacher/Problem 1.ipynb to assignment\n",
      "[AssignApp] Support files will be in Problem 1_files/\n",
      "[AssignApp] Writing 9881 bytes to student/Problem 1.ipynb\n",
      "[AssignApp] Converting notebook teacher/Problem 2.ipynb to assignment\n",
      "[AssignApp] Support files will be in Problem 2_files/\n",
      "[AssignApp] Writing 2704 bytes to student/Problem 2.ipynb\n"
     ]
    }
   ],
   "source": [
    "%%bash\n",
    "\n",
    "nbgrader assign teacher/*.ipynb \\\n",
    "    --build-dir=student \\\n",
    "    --IncludeHeaderFooter.header=header.ipynb \\\n",
    "    --save-cells \\\n",
    "    --assignment=\"Problem Set 1\" \\\n",
    "    --db=\"sqlite:////tmp/nbgrader_example.db\""
   ]
  },
  {
   "cell_type": "markdown",
   "metadata": {},
   "source": [
    "After doing this, we should be able to see the grade cells in the database:"
   ]
  },
  {
   "cell_type": "code",
   "execution_count": 7,
   "metadata": {
    "collapsed": false
   },
   "outputs": [
    {
     "name": "stdout",
     "output_type": "stream",
     "text": [
      "There are 8 grade cells in Problem Set 1, Problem 1\n"
     ]
    }
   ],
   "source": [
    "# print out how many \n",
    "gb = Gradebook(\"sqlite:///\" + dbpath)\n",
    "notebook = gb.find_notebook(\"Problem 1\", \"Problem Set 1\")\n",
    "print(\"There are {} grade cells in Problem Set 1, Problem 1\".format(len(notebook.grade_cells)))"
   ]
  }
 ],
 "metadata": {
  "kernelspec": {
   "display_name": "Python 3",
   "language": "python",
   "name": "python3"
  },
  "language_info": {
   "codemirror_mode": {
    "name": "ipython",
    "version": 3
   },
   "file_extension": ".py",
   "mimetype": "text/x-python",
   "name": "python",
   "nbconvert_exporter": "python",
   "pygments_lexer": "ipython3",
   "version": "3.4.2"
  }
 },
 "nbformat": 4,
 "nbformat_minor": 0
}