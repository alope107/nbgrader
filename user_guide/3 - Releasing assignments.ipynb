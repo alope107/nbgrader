{
 "cells": [
  {
   "cell_type": "markdown",
   "metadata": {},
   "source": [
    "# Releasing an assignment"
   ]
  },
  {
   "cell_type": "markdown",
   "metadata": {},
   "source": [
    "**These instructions are currently incomplete**."
   ]
  },
  {
   "cell_type": "code",
   "execution_count": 1,
   "metadata": {
    "collapsed": true
   },
   "outputs": [],
   "source": [
    "import os\n",
    "from nbgrader.utils import run"
   ]
  },
  {
   "cell_type": "code",
   "execution_count": 2,
   "metadata": {
    "collapsed": true
   },
   "outputs": [],
   "source": [
    "os.chdir('example')"
   ]
  },
  {
   "cell_type": "code",
   "execution_count": 3,
   "metadata": {
    "collapsed": false
   },
   "outputs": [
    {
     "name": "stdout",
     "output_type": "stream",
     "text": [
      ".:\n",
      "source\n",
      "submitted\n",
      "\n",
      "./source:\n",
      "header.ipynb\n",
      "Problem Set 1\n",
      "\n",
      "./source/Problem Set 1:\n",
      "Problem 1.ipynb\n",
      "Problem 2.ipynb\n",
      "\n",
      "./submitted:\n",
      "Bitdiddle\n",
      "Hacker\n",
      "\n",
      "./submitted/Bitdiddle:\n",
      "Problem Set 1\n",
      "\n",
      "./submitted/Bitdiddle/Problem Set 1:\n",
      "Problem 1.ipynb\n",
      "Problem 2.ipynb\n",
      "timestamp.txt\n",
      "\n",
      "./submitted/Hacker:\n",
      "Problem Set 1\n",
      "\n",
      "./submitted/Hacker/Problem Set 1:\n",
      "Problem 1.ipynb\n",
      "Problem 2.ipynb\n",
      "timestamp.txt\n",
      "\n"
     ]
    }
   ],
   "source": [
    "run('ls -R')"
   ]
  },
  {
   "cell_type": "code",
   "execution_count": 4,
   "metadata": {
    "collapsed": true
   },
   "outputs": [],
   "source": [
    "# remove an existing database\n",
    "if os.path.exists(\"gradebook.db\"):\n",
    "    os.remove(\"gradebook.db\")\n",
    "\n",
    "# create a connection to the db using the nbgrader API\n",
    "from nbgrader.api import Gradebook\n",
    "gb = Gradebook(\"sqlite:///gradebook.db\")"
   ]
  },
  {
   "cell_type": "code",
   "execution_count": 5,
   "metadata": {
    "collapsed": false
   },
   "outputs": [
    {
     "data": {
      "text/plain": [
       "Problem Set 1"
      ]
     },
     "execution_count": 5,
     "metadata": {},
     "output_type": "execute_result"
    }
   ],
   "source": [
    "# add the assignment to the database\n",
    "gb.add_assignment(\"Problem Set 1\", duedate=\"2015-02-01 15:00:00.000000 PST\")"
   ]
  },
  {
   "cell_type": "code",
   "execution_count": 6,
   "metadata": {
    "collapsed": false,
    "scrolled": false
   },
   "outputs": [
    {
     "name": "stdout",
     "output_type": "stream",
     "text": [
      "[AssignApp | INFO] Created profile dir: '/home/travis/.ipython/profile_nbgrader'\n",
      "[AssignApp | INFO] Converting notebook source/./Problem Set 1/Problem 1.ipynb to notebook\n",
      "[AssignApp | INFO] Writing 6696 bytes to release/./Problem Set 1/Problem 1.ipynb\n",
      "[AssignApp | INFO] Converting notebook source/./Problem Set 1/Problem 2.ipynb to notebook\n",
      "[AssignApp | INFO] Writing 2442 bytes to release/./Problem Set 1/Problem 2.ipynb\n",
      "\n"
     ]
    }
   ],
   "source": [
    "run('nbgrader assign \"Problem Set 1\" --IncludeHeaderFooter.header=source/header.ipynb')"
   ]
  },
  {
   "cell_type": "markdown",
   "metadata": {},
   "source": [
    "After doing this, we should be able to see the grade cells in the database:"
   ]
  },
  {
   "cell_type": "code",
   "execution_count": 7,
   "metadata": {
    "collapsed": false
   },
   "outputs": [
    {
     "name": "stdout",
     "output_type": "stream",
     "text": [
      "There are 5 grade cells in Problem Set 1, Problem 1\n"
     ]
    }
   ],
   "source": [
    "# print out how many \n",
    "notebook = gb.find_notebook(\"Problem 1\", \"Problem Set 1\")\n",
    "print(\"There are {} grade cells in Problem Set 1, Problem 1\".format(len(notebook.grade_cells)))"
   ]
  }
 ],
 "metadata": {},
 "nbformat": 4,
 "nbformat_minor": 0
}