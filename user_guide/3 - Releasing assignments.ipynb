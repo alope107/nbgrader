{
 "cells": [
  {
   "cell_type": "markdown",
   "metadata": {},
   "source": [
    "# Releasing an assignment"
   ]
  },
  {
   "cell_type": "markdown",
   "metadata": {},
   "source": [
    "**These instructions are currently incomplete**.\n",
    "\n",
    "Creating the release version of an assignment consists of creating a\n",
    "student version of a notebook that has solutions omited, based on an already created teacher, or master, version.\n",
    "\n",
    "To create the master/teacher notebook that has exercises, solutions and tests, see the documentation on the [\"Create Assignment\" extension](2 - Developing assignments.ipynb). \n",
    "\n",
    "In the `release_example` directory we have an two example master/teacher notebooks:\n",
    "\n",
    "* [Problem 1](release_example/teacher/Problem 1.ipynb)\n",
    "* [Problem 2](release_example/teacher/Problem 2.ipynb)\n",
    "\n",
    "There is also a [header notebook](release_example/header.ipynb) which will be prepended to the teacher notebooks in the release version."
   ]
  },
  {
   "cell_type": "code",
   "execution_count": 1,
   "metadata": {
    "collapsed": false
   },
   "outputs": [
    {
     "name": "stdout",
     "output_type": "stream",
     "text": [
      "/home/travis/build/jupyter/nbgrader/user_guide/release_example\n"
     ]
    }
   ],
   "source": [
    "cd release_example"
   ]
  },
  {
   "cell_type": "code",
   "execution_count": 2,
   "metadata": {
    "collapsed": false
   },
   "outputs": [
    {
     "name": "stdout",
     "output_type": "stream",
     "text": [
      ".:\r\n",
      "header.ipynb  teacher\r\n",
      "\r\n",
      "./teacher:\r\n",
      "Problem 1.ipynb  Problem 2.ipynb\r\n"
     ]
    }
   ],
   "source": [
    "!ls -R"
   ]
  },
  {
   "cell_type": "markdown",
   "metadata": {},
   "source": [
    "Now, to create the release version, all we have to do is to run the following command. This command specifies that:\n",
    "\n",
    "* we should include all the notebooks in the `teacher` directory\n",
    "* we should copy them to the `student` directory\n",
    "* the header file is `header.ipynb` (this file will be prepended to the beginning of the assignment files)\n",
    "\n",
    "For other options, please see the [`nbgrader assign` documentation](../command_line_tools/nbgrader assign.ipynb)."
   ]
  },
  {
   "cell_type": "code",
   "execution_count": 3,
   "metadata": {
    "collapsed": false,
    "scrolled": true
   },
   "outputs": [
    {
     "name": "stderr",
     "output_type": "stream",
     "text": [
      "[AssignApp] Created profile dir: '/home/travis/.ipython/profile_nbgrader'\n",
      "[AssignApp] WARNING | Generating default config file: '/home/travis/.ipython/profile_nbgrader/nbgrader_assign_config.py'\n",
      "[NbGraderApp] WARNING | Generating default config file: '/home/travis/.ipython/profile_nbgrader/nbgrader_config.py'\n",
      "[AssignApp] Converting notebook teacher/Problem 1.ipynb to assignment\n",
      "[AssignApp] Support files will be in Problem 1_files/\n",
      "[AssignApp] Writing 9881 bytes to student/Problem 1.ipynb\n",
      "[AssignApp] Converting notebook teacher/Problem 2.ipynb to assignment\n",
      "[AssignApp] Support files will be in Problem 2_files/\n",
      "[AssignApp] Writing 2704 bytes to student/Problem 2.ipynb\n"
     ]
    }
   ],
   "source": [
    "%%bash\n",
    "\n",
    "nbgrader assign teacher/*.ipynb \\\n",
    "    --build-dir=student \\\n",
    "    --IncludeHeaderFooter.header=header.ipynb"
   ]
  },
  {
   "cell_type": "markdown",
   "metadata": {},
   "source": [
    "These are the resulting student notebooks:\n",
    "\n",
    "* [Problem 1](release_example/student/Problem 1.ipynb)\n",
    "* [Problem 2](release_example/student/Problem 2.ipynb)\n",
    "\n",
    "They are versions of the assignment that can be distributed to the students, who can fill out the relevant locations of the notebook with their solutions, and eventually turn it back in."
   ]
  },
  {
   "cell_type": "markdown",
   "metadata": {},
   "source": [
    "## Recording grade cells"
   ]
  },
  {
   "cell_type": "markdown",
   "metadata": {},
   "source": [
    "If you want to record information about grade cells into the database (for example, to then use those grades and point values, rather than the ones in the notebooks students have returned), then you can optionally run `nbgrader assign` with the `--save-cells` flag."
   ]
  },
  {
   "cell_type": "markdown",
   "metadata": {},
   "source": [
    "Before we can run this command, though, we need to actually what the assignment is that we're recording grade cells for. We can do this using the API provided by nbgrader, which provides access to a database to store information about students and their grades:"
   ]
  },
  {
   "cell_type": "code",
   "execution_count": 4,
   "metadata": {
    "collapsed": false
   },
   "outputs": [
    {
     "ename": "NameError",
     "evalue": "name 'os' is not defined",
     "output_type": "error",
     "traceback": [
      "\u001b[1;31m---------------------------------------------------------------------------\u001b[0m",
      "\u001b[1;31mNameError\u001b[0m                                 Traceback (most recent call last)",
      "\u001b[1;32m<ipython-input-4-d1305a93d921>\u001b[0m in \u001b[0;36m<module>\u001b[1;34m()\u001b[0m\n\u001b[0;32m      1\u001b[0m \u001b[1;31m# remove an existing database\u001b[0m\u001b[1;33m\u001b[0m\u001b[1;33m\u001b[0m\u001b[0m\n\u001b[0;32m      2\u001b[0m \u001b[0mdbpath\u001b[0m \u001b[1;33m=\u001b[0m \u001b[1;34m\"/tmp/nbgrader_example.db\"\u001b[0m\u001b[1;33m\u001b[0m\u001b[0m\n\u001b[1;32m----> 3\u001b[1;33m \u001b[1;32mif\u001b[0m \u001b[0mos\u001b[0m\u001b[1;33m.\u001b[0m\u001b[0mpath\u001b[0m\u001b[1;33m.\u001b[0m\u001b[0mexists\u001b[0m\u001b[1;33m(\u001b[0m\u001b[0mdbpath\u001b[0m\u001b[1;33m)\u001b[0m\u001b[1;33m:\u001b[0m\u001b[1;33m\u001b[0m\u001b[0m\n\u001b[0m\u001b[0;32m      4\u001b[0m     \u001b[0mos\u001b[0m\u001b[1;33m.\u001b[0m\u001b[0mremove\u001b[0m\u001b[1;33m(\u001b[0m\u001b[0mdbpath\u001b[0m\u001b[1;33m)\u001b[0m\u001b[1;33m\u001b[0m\u001b[0m\n\u001b[0;32m      5\u001b[0m \u001b[1;33m\u001b[0m\u001b[0m\n",
      "\u001b[1;31mNameError\u001b[0m: name 'os' is not defined"
     ]
    }
   ],
   "source": [
    "# remove an existing database\n",
    "dbpath = \"/tmp/nbgrader_example.db\"\n",
    "if os.path.exists(dbpath):\n",
    "    os.remove(dbpath)\n",
    "\n",
    "# create a connection to the db using the nbgrader API\n",
    "from nbgrader.api import Gradebook\n",
    "gb = Gradebook(\"sqlite:///\" + dbpath)"
   ]
  },
  {
   "cell_type": "code",
   "execution_count": 5,
   "metadata": {
    "collapsed": false
   },
   "outputs": [
    {
     "ename": "NameError",
     "evalue": "name 'gb' is not defined",
     "output_type": "error",
     "traceback": [
      "\u001b[1;31m---------------------------------------------------------------------------\u001b[0m",
      "\u001b[1;31mNameError\u001b[0m                                 Traceback (most recent call last)",
      "\u001b[1;32m<ipython-input-5-4509ad30f969>\u001b[0m in \u001b[0;36m<module>\u001b[1;34m()\u001b[0m\n\u001b[0;32m      1\u001b[0m \u001b[1;31m# add the assignment to the database\u001b[0m\u001b[1;33m\u001b[0m\u001b[1;33m\u001b[0m\u001b[0m\n\u001b[1;32m----> 2\u001b[1;33m \u001b[0mgb\u001b[0m\u001b[1;33m.\u001b[0m\u001b[0madd_assignment\u001b[0m\u001b[1;33m(\u001b[0m\u001b[1;34m\"Problem Set 1\"\u001b[0m\u001b[1;33m)\u001b[0m\u001b[1;33m\u001b[0m\u001b[0m\n\u001b[0m",
      "\u001b[1;31mNameError\u001b[0m: name 'gb' is not defined"
     ]
    }
   ],
   "source": [
    "# add the assignment to the database\n",
    "gb.add_assignment(\"Problem Set 1\")"
   ]
  },
  {
   "cell_type": "markdown",
   "metadata": {},
   "source": [
    "Now, we can run our `nbgrader` command. Note that in addition to `--save-cells`, we need to specify the name of the assignment (which should be the same as the one in the database) and the name of the database (which should be the same as the one we just created):"
   ]
  },
  {
   "cell_type": "code",
   "execution_count": 6,
   "metadata": {
    "collapsed": false
   },
   "outputs": [
    {
     "name": "stderr",
     "output_type": "stream",
     "text": [
      "[AssignApp] Using existing profile dir: '/home/travis/.ipython/profile_nbgrader'\n",
      "[AssignApp] Converting notebook teacher/Problem 1.ipynb to assignment\n",
      "[AssignApp] Support files will be in Problem 1_files/\n",
      "Traceback (most recent call last):\n",
      "  File \"/home/travis/virtualenv/python3.4.2/lib/python3.4/site-packages/nbgrader/api.py\", line 626, in find_notebook\n",
      "    .one()\n",
      "  File \"/home/travis/virtualenv/python3.4.2/lib/python3.4/site-packages/sqlalchemy/orm/query.py\", line 2401, in one\n",
      "    raise orm_exc.NoResultFound(\"No row was found for one()\")\n",
      "sqlalchemy.orm.exc.NoResultFound: No row was found for one()\n",
      "\n",
      "During handling of the above exception, another exception occurred:\n",
      "\n",
      "Traceback (most recent call last):\n",
      "  File \"/home/travis/virtualenv/python3.4.2/lib/python3.4/site-packages/nbgrader/api.py\", line 651, in update_or_create_notebook\n",
      "    notebook = self.find_notebook(name, assignment)\n",
      "  File \"/home/travis/virtualenv/python3.4.2/lib/python3.4/site-packages/nbgrader/api.py\", line 628, in find_notebook\n",
      "    raise MissingEntry(\"No such notebook: {}/{}\".format(assignment, name))\n",
      "nbgrader.api.MissingEntry: No such notebook: Problem Set 1/Problem 1\n",
      "\n",
      "During handling of the above exception, another exception occurred:\n",
      "\n",
      "Traceback (most recent call last):\n",
      "  File \"/home/travis/virtualenv/python3.4.2/lib/python3.4/site-packages/nbgrader/api.py\", line 570, in find_assignment\n",
      "    .one()\n",
      "  File \"/home/travis/virtualenv/python3.4.2/lib/python3.4/site-packages/sqlalchemy/orm/query.py\", line 2401, in one\n",
      "    raise orm_exc.NoResultFound(\"No row was found for one()\")\n",
      "sqlalchemy.orm.exc.NoResultFound: No row was found for one()\n",
      "\n",
      "During handling of the above exception, another exception occurred:\n",
      "\n",
      "Traceback (most recent call last):\n",
      "  File \"/home/travis/virtualenv/python3.4.2/bin/nbgrader\", line 4, in <module>\n",
      "    main()\n",
      "  File \"/home/travis/virtualenv/python3.4.2/lib/python3.4/site-packages/nbgrader/apps/nbgraderapp.py\", line 51, in main\n",
      "    NbGraderApp.launch_instance()\n",
      "  File \"/home/travis/ipython/IPython/config/application.py\", line 574, in launch_instance\n",
      "    app.start()\n",
      "  File \"/home/travis/virtualenv/python3.4.2/lib/python3.4/site-packages/nbgrader/apps/nbgraderapp.py\", line 48, in start\n",
      "    super(NbGraderApp, self).start()\n",
      "  File \"/home/travis/ipython/IPython/config/application.py\", line 260, in start\n",
      "    return self.subapp.start()\n",
      "  File \"/home/travis/ipython/IPython/nbconvert/nbconvertapp.py\", line 278, in start\n",
      "    self.convert_notebooks()\n",
      "  File \"/home/travis/ipython/IPython/nbconvert/nbconvertapp.py\", line 317, in convert_notebooks\n",
      "    output, resources = exporter.from_filename(notebook_filename, resources=resources)\n",
      "  File \"/home/travis/virtualenv/python3.4.2/lib/python3.4/site-packages/nbgrader/exporters/assignmentexporter.py\", line 66, in from_filename\n",
      "    filename, resources=resources, **kw)\n",
      "  File \"/home/travis/ipython/IPython/nbconvert/exporters/exporter.py\", line 154, in from_filename\n",
      "    return self.from_notebook_node(nbformat.read(f, as_version=4), resources=resources, **kw)\n",
      "  File \"/home/travis/ipython/IPython/nbconvert/exporters/notebook.py\", line 26, in from_notebook_node\n",
      "    nb_copy, resources = super(NotebookExporter, self).from_notebook_node(nb, resources, **kw)\n",
      "  File \"/home/travis/ipython/IPython/nbconvert/exporters/exporter.py\", line 125, in from_notebook_node\n",
      "    nb_copy, resources = self._preprocess(nb_copy, resources)\n",
      "  File \"/home/travis/ipython/IPython/nbconvert/exporters/exporter.py\", line 279, in _preprocess\n",
      "    nbc, resc = preprocessor(nbc, resc)\n",
      "  File \"/home/travis/ipython/IPython/nbconvert/preprocessors/base.py\", line 47, in __call__\n",
      "    return self.preprocess(nb,resources)\n",
      "  File \"/home/travis/virtualenv/python3.4.2/lib/python3.4/site-packages/nbgrader/preprocessors/savegradecells.py\", line 22, in preprocess\n",
      "    self.notebook_id, self.assignment_id)\n",
      "  File \"/home/travis/virtualenv/python3.4.2/lib/python3.4/site-packages/nbgrader/api.py\", line 653, in update_or_create_notebook\n",
      "    notebook = self.add_notebook(name, assignment, **kwargs)\n",
      "  File \"/home/travis/virtualenv/python3.4.2/lib/python3.4/site-packages/nbgrader/api.py\", line 597, in add_notebook\n",
      "    name=name, assignment=self.find_assignment(assignment), **kwargs)\n",
      "  File \"/home/travis/virtualenv/python3.4.2/lib/python3.4/site-packages/nbgrader/api.py\", line 572, in find_assignment\n",
      "    raise MissingEntry(\"No such assignment: {}\".format(name))\n",
      "nbgrader.api.MissingEntry: No such assignment: Problem Set 1\n",
      "\n",
      "If you suspect this is an IPython bug, please report it at:\n",
      "    https://github.com/ipython/ipython/issues\n",
      "or send an email to the mailing list at ipython-dev@scipy.org\n",
      "\n",
      "You can print a more detailed traceback right now with \"%tb\", or use \"%debug\"\n",
      "to interactively debug it.\n",
      "\n",
      "Extra-detailed tracebacks for bug-reporting purposes can be enabled via:\n",
      "    c.Application.verbose_crash=True\n",
      "\n"
     ]
    }
   ],
   "source": [
    "%%bash\n",
    "\n",
    "nbgrader assign teacher/*.ipynb \\\n",
    "    --build-dir=student \\\n",
    "    --IncludeHeaderFooter.header=header.ipynb \\\n",
    "    --save-cells \\\n",
    "    --assignment=\"Problem Set 1\" \\\n",
    "    --db=\"sqlite:////tmp/nbgrader_example.db\""
   ]
  },
  {
   "cell_type": "markdown",
   "metadata": {},
   "source": [
    "After doing this, we should be able to see the grade cells in the database:"
   ]
  },
  {
   "cell_type": "code",
   "execution_count": 7,
   "metadata": {
    "collapsed": false
   },
   "outputs": [
    {
     "ename": "NameError",
     "evalue": "name 'Gradebook' is not defined",
     "output_type": "error",
     "traceback": [
      "\u001b[1;31m---------------------------------------------------------------------------\u001b[0m",
      "\u001b[1;31mNameError\u001b[0m                                 Traceback (most recent call last)",
      "\u001b[1;32m<ipython-input-7-978f686d5b67>\u001b[0m in \u001b[0;36m<module>\u001b[1;34m()\u001b[0m\n\u001b[0;32m      1\u001b[0m \u001b[1;31m# print out how many\u001b[0m\u001b[1;33m\u001b[0m\u001b[1;33m\u001b[0m\u001b[0m\n\u001b[1;32m----> 2\u001b[1;33m \u001b[0mgb\u001b[0m \u001b[1;33m=\u001b[0m \u001b[0mGradebook\u001b[0m\u001b[1;33m(\u001b[0m\u001b[1;34m\"sqlite:///\"\u001b[0m \u001b[1;33m+\u001b[0m \u001b[0mdbpath\u001b[0m\u001b[1;33m)\u001b[0m\u001b[1;33m\u001b[0m\u001b[0m\n\u001b[0m\u001b[0;32m      3\u001b[0m \u001b[0mnotebook\u001b[0m \u001b[1;33m=\u001b[0m \u001b[0mgb\u001b[0m\u001b[1;33m.\u001b[0m\u001b[0mfind_notebook\u001b[0m\u001b[1;33m(\u001b[0m\u001b[1;34m\"Problem 1\"\u001b[0m\u001b[1;33m,\u001b[0m \u001b[1;34m\"Problem Set 1\"\u001b[0m\u001b[1;33m)\u001b[0m\u001b[1;33m\u001b[0m\u001b[0m\n\u001b[0;32m      4\u001b[0m \u001b[0mprint\u001b[0m\u001b[1;33m(\u001b[0m\u001b[1;34m\"There are {} grade cells in Problem Set 1, Problem 1\"\u001b[0m\u001b[1;33m.\u001b[0m\u001b[0mformat\u001b[0m\u001b[1;33m(\u001b[0m\u001b[0mlen\u001b[0m\u001b[1;33m(\u001b[0m\u001b[0mnotebook\u001b[0m\u001b[1;33m.\u001b[0m\u001b[0mgrade_cells\u001b[0m\u001b[1;33m)\u001b[0m\u001b[1;33m)\u001b[0m\u001b[1;33m)\u001b[0m\u001b[1;33m\u001b[0m\u001b[0m\n",
      "\u001b[1;31mNameError\u001b[0m: name 'Gradebook' is not defined"
     ]
    }
   ],
   "source": [
    "# print out how many \n",
    "gb = Gradebook(\"sqlite:///\" + dbpath)\n",
    "notebook = gb.find_notebook(\"Problem 1\", \"Problem Set 1\")\n",
    "print(\"There are {} grade cells in Problem Set 1, Problem 1\".format(len(notebook.grade_cells)))"
   ]
  }
 ],
 "metadata": {
  "kernelspec": {
   "display_name": "Python 3",
   "language": "python",
   "name": "python3"
  },
  "language_info": {
   "codemirror_mode": {
    "name": "ipython",
    "version": 3
   },
   "file_extension": ".py",
   "mimetype": "text/x-python",
   "name": "python",
   "nbconvert_exporter": "python",
   "pygments_lexer": "ipython3",
   "version": "3.4.2"
  }
 },
 "nbformat": 4,
 "nbformat_minor": 0
}