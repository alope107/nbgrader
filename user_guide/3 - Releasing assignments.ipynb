{
 "cells": [
  {
   "cell_type": "code",
   "execution_count": 1,
   "metadata": {
    "collapsed": false
   },
   "outputs": [],
   "source": [
    "import os"
   ]
  },
  {
   "cell_type": "markdown",
   "metadata": {},
   "source": [
    "# Releasing an assignment"
   ]
  },
  {
   "cell_type": "markdown",
   "metadata": {},
   "source": [
    "<div class=\"alert alert-warning\">For the full documentation on `nbgrader assign` (including the list of all configurable options), run `nbgrader assign --help-all`.</div>"
   ]
  },
  {
   "cell_type": "markdown",
   "metadata": {},
   "source": [
    "After an assignment has been created with the [assignment toolbar](2 - Developing assignments.ipynb), you will want to create a *release* version of the assignment for the students. As described in [the philosophy and the approach](1 - Philosophy.ipynb), you need to organize your files in a particular way. For releasing assignments, you should have the master copy of your files saved (by default) in the following directory structure:\n",
    "\n",
    "```\n",
    "source/{assignment_id}/{notebook_id}.ipynb\n",
    "```\n",
    "\n",
    "(Note: here, the `student_id` is not included, because there is only one master version for all students, and only one release version for all students).\n",
    "\n",
    "After running `nbgrader assign`, the release version of the notebooks will be:\n",
    "\n",
    "```\n",
    "release/{assignment_id}/{notebook_id}.ipynb\n",
    "```\n",
    "\n",
    "As the instructor, you will need to provide your own infrastructure for actually getting this release version to students."
   ]
  },
  {
   "cell_type": "markdown",
   "metadata": {},
   "source": [
    "## Example"
   ]
  },
  {
   "cell_type": "code",
   "execution_count": 2,
   "metadata": {
    "collapsed": false
   },
   "outputs": [],
   "source": [
    "os.chdir('example')"
   ]
  },
  {
   "cell_type": "markdown",
   "metadata": {},
   "source": [
    "In the following example, we have an assignment with two notebooks:\n",
    "\n",
    "* [source/Problem Set 1/Problem 1.ipynb](example/source/Problem Set 1/Problem 1.ipynb)\n",
    "* [source/Problem Set 1/Problem 2.ipynb](example/source/Problem Set 1/Problem 2.ipynb)"
   ]
  },
  {
   "cell_type": "markdown",
   "metadata": {},
   "source": [
    "Before we can create the release version, we first need to set up the database. We'll use the default database url, which is just to a sqlite database called `gradebook.db` in the current directory. At this point, all we need to do is just add the assignment to the database; we'll also include a due date for it:"
   ]
  },
  {
   "cell_type": "code",
   "execution_count": 3,
   "metadata": {
    "collapsed": false
   },
   "outputs": [
    {
     "data": {
      "text/plain": [
       "[Problem Set 1]"
      ]
     },
     "execution_count": 3,
     "metadata": {},
     "output_type": "execute_result"
    }
   ],
   "source": [
    "# remove an existing database\n",
    "if os.path.exists(\"gradebook.db\"):\n",
    "    os.remove(\"gradebook.db\")\n",
    "\n",
    "# create a connection to the db using the nbgrader API\n",
    "from nbgrader.api import Gradebook\n",
    "gb = Gradebook(\"sqlite:///gradebook.db\")\n",
    "\n",
    "# add the assignment to the database\n",
    "gb.add_assignment(\"Problem Set 1\", duedate=\"2015-02-01 15:00:00.000000 PST\")\n",
    "\n",
    "# show what assignments exist\n",
    "gb.assignments"
   ]
  },
  {
   "cell_type": "markdown",
   "metadata": {},
   "source": [
    "Now that we have the gradebook setup, we can actually run `nbgrader assign`. Note that we need to pass it the name of the assignment (which is \"Problem Set 1\"). We also specify that a *header* notebook (`source/header.ipynb`) should be preprended to the beginning of each notebook in the assignment:"
   ]
  },
  {
   "cell_type": "code",
   "execution_count": 4,
   "metadata": {
    "collapsed": false,
    "scrolled": false
   },
   "outputs": [
    {
     "name": "stderr",
     "output_type": "stream",
     "text": [
      "[AssignApp | INFO] Created profile dir: '/home/travis/.ipython/profile_nbgrader'\n",
      "[AssignApp | INFO] Converting notebook source/./Problem Set 1/Problem 1.ipynb to notebook\n",
      "[AssignApp | INFO] Writing 6696 bytes to release/./Problem Set 1/Problem 1.ipynb\n",
      "[AssignApp | INFO] Converting notebook source/./Problem Set 1/Problem 2.ipynb to notebook\n",
      "[AssignApp | INFO] Writing 2442 bytes to release/./Problem Set 1/Problem 2.ipynb\n"
     ]
    }
   ],
   "source": [
    "%%bash\n",
    "\n",
    "nbgrader assign \"Problem Set 1\" --IncludeHeaderFooter.header=source/header.ipynb"
   ]
  },
  {
   "cell_type": "markdown",
   "metadata": {},
   "source": [
    "After doing this, there will be a new folder called `release` with the same structure as `source`, but with the actual release version of the files:\n",
    "\n",
    "* [release/Problem Set 1/Problem 1.ipynb](example/release/Problem Set 1/Problem 1.ipynb)\n",
    "* [release/Problem Set 1/Problem 2.ipynb](example/release/Problem Set 1/Problem 2.ipynb)"
   ]
  }
 ],
 "metadata": {},
 "nbformat": 4,
 "nbformat_minor": 0
}