{
 "cells": [
  {
   "cell_type": "markdown",
   "metadata": {},
   "source": [
    "# Manually grading a student's solution"
   ]
  },
  {
   "cell_type": "markdown",
   "metadata": {},
   "source": [
    "<div class=\"alert alert-warning\">For the full documentation on `nbgrader formgrade` (including the list of all configurable options), run `nbgrader formgrade --help-all`.</div>"
   ]
  },
  {
   "cell_type": "markdown",
   "metadata": {},
   "source": [
    "After assignments have been autograded, they will saved into an `autograded` directory (see [the philosophy and the approach](1 - Philosophy.ipynb) for details):\n",
    "\n",
    "After running `nbgrader autograde`, the autograded version of the notebooks will be:\n",
    "\n",
    "```\n",
    "autograded/{student_id}/{assignment_id}/{notebook_id}.ipynb\n",
    "```\n",
    "\n",
    "To grade the assignments with an HTML form, all we have to do is run:\n",
    "\n",
    "```bash\n",
    "nbgrader formgrade\n",
    "```\n",
    "\n",
    "This will launch a server at `http://localhost:5000` that will provide you with an interface for hand grading assignments that it finds in the directory listed above. Note that this applies to *all* assignments as well -- as long as [the autograder](4 - Autograding.ipynb) has been run on the assignment, it will be available for manual grading via the formgrader.\n",
    "\n",
    "The formgrader doesn't actually modify the files on disk at all; it only modifies information about them in the database. So, there is no \"output\" step for the formgrader."
   ]
  }
 ],
 "metadata": {},
 "nbformat": 4,
 "nbformat_minor": 0
}