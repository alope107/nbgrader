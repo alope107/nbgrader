{
 "cells": [
  {
   "cell_type": "markdown",
   "metadata": {},
   "source": [
    "# Manually grading a student's solution"
   ]
  },
  {
   "cell_type": "markdown",
   "metadata": {},
   "source": [
    "**These instructions are currently incomplete**.\n",
    "\n",
    "Let's say that we have already run the autograder (see [the previous chapter](4 - Autograding.ipynb)), and we have a few autograded notebooks:\n",
    "\n",
    "* [Bitdiddle/Problem 1.ipynb](grade_example/autograded/Bitdiddle/Problem 1.ipynb)\n",
    "* [Bitdiddle/Problem 2.ipynb](grade_example/autograded/Bitdiddle/Problem 2.ipynb)\n",
    "* [Hacker/Problem 1.ipynb](grade_example/autograded/Hacker/Problem 1.ipynb)\n",
    "* [Hacker/Problem 2.ipynb](grade_example/autograded/Hacker/Problem 2.ipynb)"
   ]
  },
  {
   "cell_type": "code",
   "execution_count": 1,
   "metadata": {
    "collapsed": true
   },
   "outputs": [],
   "source": [
    "from nbgrader.utils import run"
   ]
  },
  {
   "cell_type": "code",
   "execution_count": 2,
   "metadata": {
    "collapsed": false
   },
   "outputs": [
    {
     "name": "stdout",
     "output_type": "stream",
     "text": [
      "grade_example/autograded:\n",
      "Bitdiddle\n",
      "Hacker\n",
      "\n",
      "grade_example/autograded/Bitdiddle:\n",
      "Problem 1.ipynb\n",
      "Problem 2.ipynb\n",
      "\n",
      "grade_example/autograded/Hacker:\n",
      "Problem 1.ipynb\n",
      "Problem 2.ipynb\n",
      "\n"
     ]
    }
   ],
   "source": [
    "run('ls -R grade_example/autograded')"
   ]
  },
  {
   "cell_type": "markdown",
   "metadata": {},
   "source": [
    "We may want to go and change some of the grades that were automatically assigned, or we may need to manually assign grades to written solutions. To do this, we use `nbgrader formgrade`."
   ]
  },
  {
   "cell_type": "markdown",
   "metadata": {},
   "source": [
    "First, we specify the configuration file for `nbgrader formgrade`:"
   ]
  },
  {
   "cell_type": "code",
   "execution_count": 3,
   "metadata": {
    "collapsed": false
   },
   "outputs": [
    {
     "name": "stdout",
     "output_type": "stream",
     "text": [
      "c = get_config()\n",
      "\n",
      "import os\n",
      "db_url = os.path.abspath(os.path.join(os.getcwd(), \"..\", \"nbgrader_example.db\"))\n",
      "\n",
      "c.FormgradeApp.base_directory = \"autograded\"\n",
      "c.FormgradeApp.directory_format = \"{student_id}/{notebook_id}.ipynb\"\n",
      "c.FormgradeApp.db_url = \"sqlite:///{}\".format(db_url)\n",
      "\n"
     ]
    }
   ],
   "source": [
    "run('cat grade_example/nbgrader_formgrade_config.py')"
   ]
  },
  {
   "cell_type": "markdown",
   "metadata": {},
   "source": [
    "This config file just says that we should serve the notebooks that are in the `autograded` directory, and that the grades are stored in the \"example\" database.\n",
    "\n",
    "Now, to grade the assignments with an HTML form, all we have to do is:\n",
    "\n",
    "```bash\n",
    "nbgrader formgrade\n",
    "```\n",
    "\n",
    "This will launch a server that will provide you with an interface for hand grading assignments."
   ]
  }
 ],
 "metadata": {},
 "nbformat": 4,
 "nbformat_minor": 0
}