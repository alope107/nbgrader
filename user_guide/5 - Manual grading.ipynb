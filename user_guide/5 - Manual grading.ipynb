{
 "cells": [
  {
   "cell_type": "markdown",
   "metadata": {},
   "source": [
    "# Manually grading a student's solution"
   ]
  },
  {
   "cell_type": "markdown",
   "metadata": {},
   "source": [
    "**These instructions are currently incomplete**."
   ]
  },
  {
   "cell_type": "code",
   "execution_count": 1,
   "metadata": {
    "collapsed": true
   },
   "outputs": [],
   "source": [
    "from nbgrader.utils import run"
   ]
  },
  {
   "cell_type": "code",
   "execution_count": 2,
   "metadata": {
    "collapsed": false
   },
   "outputs": [
    {
     "name": "stdout",
     "output_type": "stream",
     "text": [
      "example/autograded:\n",
      "Bitdiddle\n",
      "Hacker\n",
      "\n",
      "example/autograded/Bitdiddle:\n",
      "Problem Set 1\n",
      "\n",
      "example/autograded/Bitdiddle/Problem Set 1:\n",
      "Problem 1.ipynb\n",
      "Problem 2.ipynb\n",
      "timestamp.txt\n",
      "\n",
      "example/autograded/Hacker:\n",
      "Problem Set 1\n",
      "\n",
      "example/autograded/Hacker/Problem Set 1:\n",
      "Problem 1.ipynb\n",
      "Problem 2.ipynb\n",
      "timestamp.txt\n",
      "\n"
     ]
    }
   ],
   "source": [
    "run('ls -R example/autograded')"
   ]
  },
  {
   "cell_type": "markdown",
   "metadata": {},
   "source": [
    "To grade the assignments with an HTML form, all we have to do is:\n",
    "\n",
    "```bash\n",
    "nbgrader formgrade\n",
    "```\n",
    "\n",
    "This will launch a server at `http://localhost:5000` that will provide you with an interface for hand grading assignments."
   ]
  }
 ],
 "metadata": {},
 "nbformat": 4,
 "nbformat_minor": 0
}