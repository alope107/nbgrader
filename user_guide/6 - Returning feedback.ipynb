{
 "cells": [
  {
   "cell_type": "markdown",
   "metadata": {},
   "source": [
    "# Returning feedback to students"
   ]
  },
  {
   "cell_type": "code",
   "execution_count": 1,
   "metadata": {
    "collapsed": true
   },
   "outputs": [],
   "source": [
    "import os\n",
    "from nbgrader.utils import run"
   ]
  },
  {
   "cell_type": "code",
   "execution_count": 2,
   "metadata": {
    "collapsed": false,
    "scrolled": true
   },
   "outputs": [
    {
     "name": "stdout",
     "output_type": "stream",
     "text": [
      "grade_example/autograded:\n",
      "Bitdiddle\n",
      "Hacker\n",
      "\n",
      "grade_example/autograded/Bitdiddle:\n",
      "Problem 1.ipynb\n",
      "Problem 2.ipynb\n",
      "\n",
      "grade_example/autograded/Hacker:\n",
      "Problem 1.ipynb\n",
      "Problem 2.ipynb\n",
      "\n"
     ]
    }
   ],
   "source": [
    "run('ls -R grade_example/autograded')"
   ]
  },
  {
   "cell_type": "markdown",
   "metadata": {},
   "source": [
    "## Generate feedback"
   ]
  },
  {
   "cell_type": "markdown",
   "metadata": {},
   "source": [
    "We will need to run the `nbgrader feedback` command twice (once for each student). Each time we run it, we need to specify:\n",
    "\n",
    "* that we want to generate feedback from the notebooks in the `autograded/$student_id` directory\n",
    "* that we want to copy the results to the `feedback/$student_id` directory\n",
    "* that the student id is `$student_id`\n",
    "* that the assignment is \"Problem Set 1\"\n",
    "* that the database is a sqlite database at `/tmp/nbgrader_example.db`"
   ]
  },
  {
   "cell_type": "code",
   "execution_count": 3,
   "metadata": {
    "collapsed": false
   },
   "outputs": [
    {
     "name": "stdout",
     "output_type": "stream",
     "text": [
      "[FeedbackApp] Using existing profile dir: '/home/travis/.ipython/profile_nbgrader'\n",
      "[FeedbackApp] WARNING | Generating default config file: '/home/travis/.ipython/profile_nbgrader/nbgrader_feedback_config.py'\n",
      "[FeedbackApp] Converting notebook grade_example/autograded/Bitdiddle/Problem 1.ipynb to feedback\n",
      "[FeedbackApp] Support files will be in Problem 1_files/\n",
      "[FeedbackApp] Student ID: Bitdiddle\n",
      "[FeedbackApp] Loaded template feedback.tpl\n",
      "[FeedbackApp] Writing 276031 bytes to grade_example/feedback/Bitdiddle/Problem 1.html\n",
      "[FeedbackApp] Converting notebook grade_example/autograded/Bitdiddle/Problem 2.ipynb to feedback\n",
      "[FeedbackApp] Support files will be in Problem 2_files/\n",
      "[FeedbackApp] Student ID: Bitdiddle\n",
      "[FeedbackApp] Loaded template feedback.tpl\n",
      "[FeedbackApp] Writing 250322 bytes to grade_example/feedback/Bitdiddle/Problem 2.html\n",
      "\n",
      "[FeedbackApp] Using existing profile dir: '/home/travis/.ipython/profile_nbgrader'\n",
      "[FeedbackApp] Converting notebook grade_example/autograded/Hacker/Problem 1.ipynb to feedback\n",
      "[FeedbackApp] Support files will be in Problem 1_files/\n",
      "[FeedbackApp] Student ID: Hacker\n",
      "[FeedbackApp] Loaded template feedback.tpl\n",
      "[FeedbackApp] Writing 262072 bytes to grade_example/feedback/Hacker/Problem 1.html\n",
      "[FeedbackApp] Converting notebook grade_example/autograded/Hacker/Problem 2.ipynb to feedback\n",
      "[FeedbackApp] Support files will be in Problem 2_files/\n",
      "[FeedbackApp] Student ID: Hacker\n",
      "[FeedbackApp] Loaded template feedback.tpl\n",
      "[FeedbackApp] Writing 250414 bytes to grade_example/feedback/Hacker/Problem 2.html\n"
     ]
    },
    {
     "name": "stdout",
     "output_type": "stream",
     "text": [
      "\n"
     ]
    }
   ],
   "source": [
    "dbpath = \"nbgrader_example.db\"\n",
    "\n",
    "for student_id in os.listdir('grade_example/autograded'):\n",
    "    run('nbgrader feedback grade_example/autograded/{student_id}/*.ipynb '\n",
    "        '--build-dir=grade_example/feedback/{student_id} '\n",
    "        '--student={student_id} '\n",
    "        '--assignment=\"Problem Set 1\" '\n",
    "        '--db=\"sqlite:///{dbpath}\"'.format(student_id=student_id, dbpath=dbpath))"
   ]
  },
  {
   "cell_type": "markdown",
   "metadata": {},
   "source": [
    "Now if we look at the `feedback` directory, we see:\n",
    "\n",
    "* [Bitdiddle/Problem 1.html](grade_example/feedback/Bitdiddle/Problem 1.html)\n",
    "* [Bitdiddle/Problem 2.html](grade_example/feedback/Bitdiddle/Problem 2.html)\n",
    "* [Hacker/Problem 1.html](grade_example/feedback/Hacker/Problem 1.html)\n",
    "* [Hacker/Problem 2.html](grade_example/feedback/Hacker/Problem 2.html)"
   ]
  },
  {
   "cell_type": "code",
   "execution_count": 4,
   "metadata": {
    "collapsed": false
   },
   "outputs": [
    {
     "name": "stdout",
     "output_type": "stream",
     "text": [
      "grade_example/feedback:\n",
      "Bitdiddle\n",
      "Hacker\n",
      "\n",
      "grade_example/feedback/Bitdiddle:\n",
      "Problem 1.html\n",
      "Problem 2.html\n",
      "\n",
      "grade_example/feedback/Hacker:\n",
      "Problem 1.html\n",
      "Problem 2.html\n",
      "\n"
     ]
    }
   ],
   "source": [
    "run('ls -R grade_example/feedback')"
   ]
  }
 ],
 "metadata": {},
 "nbformat": 4,
 "nbformat_minor": 0
}