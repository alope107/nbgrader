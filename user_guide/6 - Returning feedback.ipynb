{
 "cells": [
  {
   "cell_type": "markdown",
   "metadata": {},
   "source": [
    "# Returning feedback to students"
   ]
  },
  {
   "cell_type": "code",
   "execution_count": 1,
   "metadata": {
    "collapsed": true
   },
   "outputs": [],
   "source": [
    "import os\n",
    "from nbgrader.utils import run"
   ]
  },
  {
   "cell_type": "code",
   "execution_count": 2,
   "metadata": {
    "collapsed": true
   },
   "outputs": [],
   "source": [
    "os.chdir('example')"
   ]
  },
  {
   "cell_type": "code",
   "execution_count": 3,
   "metadata": {
    "collapsed": false,
    "scrolled": true
   },
   "outputs": [
    {
     "name": "stdout",
     "output_type": "stream",
     "text": [
      "autograded:\n",
      "Bitdiddle\n",
      "Hacker\n",
      "\n",
      "autograded/Bitdiddle:\n",
      "Problem Set 1\n",
      "\n",
      "autograded/Bitdiddle/Problem Set 1:\n",
      "Problem 1.ipynb\n",
      "Problem 2.ipynb\n",
      "\n",
      "autograded/Hacker:\n",
      "Problem Set 1\n",
      "\n",
      "autograded/Hacker/Problem Set 1:\n",
      "Problem 1.ipynb\n",
      "Problem 2.ipynb\n",
      "\n"
     ]
    }
   ],
   "source": [
    "run('ls -R autograded')"
   ]
  },
  {
   "cell_type": "markdown",
   "metadata": {},
   "source": [
    "## Generate feedback"
   ]
  },
  {
   "cell_type": "code",
   "execution_count": 4,
   "metadata": {
    "collapsed": false
   },
   "outputs": [
    {
     "name": "stdout",
     "output_type": "stream",
     "text": [
      "[FeedbackApp | INFO] Converting notebook autograded/Bitdiddle/Problem Set 1/Problem 1.ipynb to html\n",
      "[FeedbackApp | INFO] Writing 33504 bytes to feedback/Bitdiddle/Problem Set 1/Problem 1.html\n",
      "[FeedbackApp | INFO] Converting notebook autograded/Bitdiddle/Problem Set 1/Problem 2.ipynb to html\n",
      "[FeedbackApp | INFO] Writing 7795 bytes to feedback/Bitdiddle/Problem Set 1/Problem 2.html\n",
      "[FeedbackApp | INFO] Converting notebook autograded/Hacker/Problem Set 1/Problem 1.ipynb to html\n",
      "[FeedbackApp | INFO] Writing 19545 bytes to feedback/Hacker/Problem Set 1/Problem 1.html\n",
      "[FeedbackApp | INFO] Converting notebook autograded/Hacker/Problem Set 1/Problem 2.ipynb to html\n",
      "[FeedbackApp | INFO] Writing 7887 bytes to feedback/Hacker/Problem Set 1/Problem 2.html\n",
      "\n"
     ]
    }
   ],
   "source": [
    "run('nbgrader feedback \"Problem Set 1\"')"
   ]
  },
  {
   "cell_type": "code",
   "execution_count": 5,
   "metadata": {
    "collapsed": false
   },
   "outputs": [
    {
     "name": "stdout",
     "output_type": "stream",
     "text": [
      "feedback:\n",
      "Bitdiddle\n",
      "Hacker\n",
      "\n",
      "feedback/Bitdiddle:\n",
      "Problem Set 1\n",
      "\n",
      "feedback/Bitdiddle/Problem Set 1:\n",
      "Problem 1.html\n",
      "Problem 2.html\n",
      "\n",
      "feedback/Hacker:\n",
      "Problem Set 1\n",
      "\n",
      "feedback/Hacker/Problem Set 1:\n",
      "Problem 1.html\n",
      "Problem 2.html\n",
      "\n"
     ]
    }
   ],
   "source": [
    "run('ls -R feedback')"
   ]
  }
 ],
 "metadata": {},
 "nbformat": 4,
 "nbformat_minor": 0
}