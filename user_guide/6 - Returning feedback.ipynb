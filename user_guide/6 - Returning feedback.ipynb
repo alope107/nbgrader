{
 "cells": [
  {
   "cell_type": "code",
   "execution_count": 1,
   "metadata": {
    "collapsed": true
   },
   "outputs": [],
   "source": [
    "import os"
   ]
  },
  {
   "cell_type": "markdown",
   "metadata": {},
   "source": [
    "# Returning feedback to students"
   ]
  },
  {
   "cell_type": "markdown",
   "metadata": {},
   "source": [
    "<div class=\"alert alert-warning\">For the full documentation on `nbgrader feedback` (including the list of all configurable options), run `nbgrader feedback --help-all`.</div>"
   ]
  },
  {
   "cell_type": "markdown",
   "metadata": {},
   "source": [
    "After assignments have been autograded and/or manually graded, they will located in the `autograded` directory (see [the philosophy and the approach](1 - Philosophy.ipynb) for details):\n",
    "\n",
    "```\n",
    "autograded/{student_id}/{assignment_id}/{notebook_id}.ipynb\n",
    "```\n",
    "\n",
    "After running `nbgrader feedback`, HTML versions of these notebooks will be saved to:\n",
    "\n",
    "```\n",
    "feedback/{student_id}/{assignment_id}/{notebook_id}.html\n",
    "```"
   ]
  },
  {
   "cell_type": "markdown",
   "metadata": {},
   "source": [
    "## Example"
   ]
  },
  {
   "cell_type": "code",
   "execution_count": 2,
   "metadata": {
    "collapsed": true
   },
   "outputs": [],
   "source": [
    "os.chdir('example')"
   ]
  },
  {
   "cell_type": "markdown",
   "metadata": {},
   "source": [
    "In the following example, we have an assignment with two notebooks. There are two submissions of the assignment that have been graded:\n",
    "\n",
    "* [autograded/Bitdiddle/Problem Set 1](example/autograded/Bitdiddle/Problem Set 1)\n",
    "* [autograded/Hacker/Problem Set 1](example/autograded/Hacker/Problem Set 1)"
   ]
  },
  {
   "cell_type": "markdown",
   "metadata": {},
   "source": [
    "Generating feedback is fairly straigtforward:"
   ]
  },
  {
   "cell_type": "code",
   "execution_count": 3,
   "metadata": {
    "collapsed": false
   },
   "outputs": [
    {
     "name": "stderr",
     "output_type": "stream",
     "text": [
      "[FeedbackApp | INFO] Linking autograded/Bitdiddle/Problem Set 1/jupyter.png -> feedback/Bitdiddle/Problem Set 1/jupyter.png\n",
      "[FeedbackApp | INFO] Linking autograded/Bitdiddle/Problem Set 1/timestamp.txt -> feedback/Bitdiddle/Problem Set 1/timestamp.txt\n",
      "[FeedbackApp | INFO] Converting notebook autograded/Bitdiddle/Problem Set 1/Problem 2.ipynb to html\n",
      "[FeedbackApp | INFO] Writing 250939 bytes to feedback/Bitdiddle/Problem Set 1/Problem 2.html\n",
      "[FeedbackApp | INFO] Converting notebook autograded/Bitdiddle/Problem Set 1/Problem 1.ipynb to html\n",
      "[FeedbackApp | INFO] Writing 277013 bytes to feedback/Bitdiddle/Problem Set 1/Problem 1.html\n",
      "[FeedbackApp | INFO] Setting destination file permissions to 444\n",
      "[FeedbackApp | INFO] Linking autograded/Hacker/Problem Set 1/jupyter.png -> feedback/Hacker/Problem Set 1/jupyter.png\n",
      "[FeedbackApp | INFO] Linking autograded/Hacker/Problem Set 1/timestamp.txt -> feedback/Hacker/Problem Set 1/timestamp.txt\n",
      "[FeedbackApp | INFO] Converting notebook autograded/Hacker/Problem Set 1/Problem 2.ipynb to html\n",
      "[FeedbackApp | INFO] Writing 251031 bytes to feedback/Hacker/Problem Set 1/Problem 2.html\n",
      "[FeedbackApp | INFO] Converting notebook autograded/Hacker/Problem Set 1/Problem 1.ipynb to html\n",
      "[FeedbackApp | INFO] Writing 263054 bytes to feedback/Hacker/Problem Set 1/Problem 1.html\n",
      "[FeedbackApp | INFO] Setting destination file permissions to 444\n"
     ]
    }
   ],
   "source": [
    "%%bash\n",
    "\n",
    "nbgrader feedback \"Problem Set 1\""
   ]
  },
  {
   "cell_type": "markdown",
   "metadata": {},
   "source": [
    "Once the feedback has been generated, there will be new directories and HTML files corresponding to each notebook in each submission:\n",
    "\n",
    "* [feedback/Bitdiddle/Problem Set 1/Problem 1.html](example/feedback/Bitdiddle/Problem Set 1/Problem 1.html)\n",
    "* [feedback/Bitdiddle/Problem Set 1/Problem 2.html](example/feedback/Bitdiddle/Problem Set 1/Problem 2.html)\n",
    "* [feedback/Hacker/Problem Set 1/Problem 1.html](example/feedback/Hacker/Problem Set 1/Problem 1.html)\n",
    "* [feedback/Hacker/Problem Set 1/Problem 2.html](example/feedback/Hacker/Problem Set 1/Problem 2.html)"
   ]
  }
 ],
 "metadata": {},
 "nbformat": 4,
 "nbformat_minor": 0
}