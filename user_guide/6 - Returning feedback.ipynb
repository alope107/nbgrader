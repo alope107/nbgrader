{
 "cells": [
  {
   "cell_type": "markdown",
   "metadata": {},
   "source": [
    "# Returning feedback to students"
   ]
  },
  {
   "cell_type": "code",
   "execution_count": 1,
   "metadata": {
    "collapsed": false
   },
   "outputs": [
    {
     "name": "stdout",
     "output_type": "stream",
     "text": [
      "/home/travis/build/jupyter/nbgrader/user_guide/grade_example\n"
     ]
    }
   ],
   "source": [
    "cd grade_example"
   ]
  },
  {
   "cell_type": "code",
   "execution_count": 2,
   "metadata": {
    "collapsed": false,
    "scrolled": true
   },
   "outputs": [
    {
     "name": "stdout",
     "output_type": "stream",
     "text": [
      "autograded:\r\n",
      "\u001b[0m\u001b[01;34mBitdiddle\u001b[0m/  \u001b[01;34mHacker\u001b[0m/\r\n",
      "\r\n",
      "autograded/Bitdiddle:\r\n",
      "Problem 1.ipynb  Problem 2.ipynb\r\n",
      "\r\n",
      "autograded/Hacker:\r\n",
      "Problem 1.ipynb  Problem 2.ipynb\r\n"
     ]
    }
   ],
   "source": [
    "ls -R autograded"
   ]
  },
  {
   "cell_type": "markdown",
   "metadata": {},
   "source": [
    "## Generate feedback"
   ]
  },
  {
   "cell_type": "markdown",
   "metadata": {},
   "source": [
    "We will need to run the `nbgrader feedback` command twice (once for each student). Each time we run it, we need to specify:\n",
    "\n",
    "* that we want to generate feedback from the notebooks in the `autograded/$student_id` directory\n",
    "* that we want to copy the results to the `feedback/$student_id` directory\n",
    "* that the student id is `$student_id`\n",
    "* that the assignment is \"Problem Set 1\"\n",
    "* that the database is a sqlite database at `/tmp/nbgrader_example.db`"
   ]
  },
  {
   "cell_type": "code",
   "execution_count": 3,
   "metadata": {
    "collapsed": false
   },
   "outputs": [
    {
     "name": "stderr",
     "output_type": "stream",
     "text": [
      "[FeedbackApp] Using existing profile dir: '/home/travis/.ipython/profile_nbgrader'\n",
      "[FeedbackApp] WARNING | Generating default config file: '/home/travis/.ipython/profile_nbgrader/nbgrader_feedback_config.py'\n",
      "[FeedbackApp] Converting notebook autograded/Bitdiddle/Problem 1.ipynb to feedback\n",
      "[FeedbackApp] Support files will be in Problem 1_files/\n",
      "[FeedbackApp] Student ID: Bitdiddle\n",
      "[FeedbackApp] Loaded template feedback.tpl\n",
      "[FeedbackApp] Writing 301842 bytes to feedback/Bitdiddle/Problem 1.html\n",
      "[FeedbackApp] Converting notebook autograded/Bitdiddle/Problem 2.ipynb to feedback\n",
      "[FeedbackApp] Support files will be in Problem 2_files/\n",
      "[FeedbackApp] Student ID: Bitdiddle\n",
      "[FeedbackApp] Loaded template feedback.tpl\n",
      "[FeedbackApp] Writing 250321 bytes to feedback/Bitdiddle/Problem 2.html\n",
      "[FeedbackApp] Using existing profile dir: '/home/travis/.ipython/profile_nbgrader'\n",
      "[FeedbackApp] Converting notebook autograded/Hacker/Problem 1.ipynb to feedback\n",
      "[FeedbackApp] Support files will be in Problem 1_files/\n",
      "[FeedbackApp] Student ID: Hacker\n",
      "[FeedbackApp] Loaded template feedback.tpl\n",
      "[FeedbackApp] Writing 288088 bytes to feedback/Hacker/Problem 1.html\n",
      "[FeedbackApp] Converting notebook autograded/Hacker/Problem 2.ipynb to feedback\n",
      "[FeedbackApp] Support files will be in Problem 2_files/\n",
      "[FeedbackApp] Student ID: Hacker\n",
      "[FeedbackApp] Loaded template feedback.tpl\n",
      "[FeedbackApp] Writing 250413 bytes to feedback/Hacker/Problem 2.html\n"
     ]
    }
   ],
   "source": [
    "%%bash\n",
    "\n",
    "for student_id in $(ls autograded); do\n",
    "    nbgrader feedback autograded/$student_id/*.ipynb \\\n",
    "        --build-dir=feedback/$student_id \\\n",
    "        --student=$student_id \\\n",
    "        --assignment=\"Problem Set 1\" \\\n",
    "        --db=\"sqlite:////tmp/nbgrader_example.db\"\n",
    "done"
   ]
  },
  {
   "cell_type": "markdown",
   "metadata": {},
   "source": [
    "Now if we look at the `feedback` directory, we see:\n",
    "\n",
    "* [Bitdiddle/Problem 1.html](grade_example/feedback/Bitdiddle/Problem 1.html)\n",
    "* [Bitdiddle/Problem 2.html](grade_example/feedback/Bitdiddle/Problem 2.html)\n",
    "* [Hacker/Problem 1.html](grade_example/feedback/Hacker/Problem 1.html)\n",
    "* [Hacker/Problem 2.html](grade_example/feedback/Hacker/Problem 2.html)"
   ]
  },
  {
   "cell_type": "code",
   "execution_count": 4,
   "metadata": {
    "collapsed": false
   },
   "outputs": [
    {
     "name": "stdout",
     "output_type": "stream",
     "text": [
      "feedback:\r\n",
      "\u001b[0m\u001b[01;34mBitdiddle\u001b[0m/  \u001b[01;34mHacker\u001b[0m/\r\n",
      "\r\n",
      "feedback/Bitdiddle:\r\n",
      "Problem 1.html  Problem 2.html\r\n",
      "\r\n",
      "feedback/Hacker:\r\n",
      "Problem 1.html  Problem 2.html\r\n"
     ]
    }
   ],
   "source": [
    "ls -R feedback"
   ]
  }
 ],
 "metadata": {
  "kernelspec": {
   "display_name": "Python 3",
   "language": "python",
   "name": "python3"
  },
  "language_info": {
   "codemirror_mode": {
    "name": "ipython",
    "version": 3
   },
   "file_extension": ".py",
   "mimetype": "text/x-python",
   "name": "python",
   "nbconvert_exporter": "python",
   "pygments_lexer": "ipython3",
   "version": "3.4.2"
  }
 },
 "nbformat": 4,
 "nbformat_minor": 0
}