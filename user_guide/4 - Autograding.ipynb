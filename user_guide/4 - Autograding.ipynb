{
 "cells": [
  {
   "cell_type": "markdown",
   "metadata": {},
   "source": [
    "# Autograde a students' solution"
   ]
  },
  {
   "cell_type": "markdown",
   "metadata": {},
   "source": [
    "**These instructions are currently incomplete**.\n",
    "\n",
    "Let's say that students have turned in their notebooks with a special naming convention of `Lastname/Problem N.ipynb`, where `N` is the problem number and `Lastname` is a directory named with the student's last name. In this example, we have a few submitted assignments:\n",
    "\n",
    "* [Bitdiddle/Problem 1.ipynb](grade_example/submitted/Bitdiddle/Problem 1.ipynb)\n",
    "* [Bitdiddle/Problem 2.ipynb](grade_example/submitted/Bitdiddle/Problem 2.ipynb)\n",
    "* [Hacker/Problem 1.ipynb](grade_example/submitted/Hacker/Problem 1.ipynb)\n",
    "* [Hacker/Problem 2.ipynb](grade_example/submitted/Hacker/Problem 2.ipynb)"
   ]
  },
  {
   "cell_type": "code",
   "execution_count": 1,
   "metadata": {
    "collapsed": false
   },
   "outputs": [
    {
     "name": "stdout",
     "output_type": "stream",
     "text": [
      "/Users/jhamrick/project/tools/nbgrader/user_guide/grade_example\n"
     ]
    }
   ],
   "source": [
    "cd grade_example"
   ]
  },
  {
   "cell_type": "code",
   "execution_count": 2,
   "metadata": {
    "collapsed": false
   },
   "outputs": [
    {
     "name": "stdout",
     "output_type": "stream",
     "text": [
      "nbgrader_formgrade_config.py  \u001b[34msubmitted\u001b[m\u001b[m/\r\n",
      "\r\n",
      "./submitted:\r\n",
      "\u001b[34mBitdiddle\u001b[m\u001b[m/ \u001b[34mHacker\u001b[m\u001b[m/\r\n",
      "\r\n",
      "./submitted/Bitdiddle:\r\n",
      "Problem 1.ipynb  Problem 2.ipynb\r\n",
      "\r\n",
      "./submitted/Hacker:\r\n",
      "Problem 1.ipynb  Problem 2.ipynb\r\n"
     ]
    }
   ],
   "source": [
    "ls -R"
   ]
  },
  {
   "cell_type": "markdown",
   "metadata": {},
   "source": [
    "## Initialize the database"
   ]
  },
  {
   "cell_type": "markdown",
   "metadata": {},
   "source": [
    "Before we can actually start grading, we need to actually record who the students are. We can do this using the API provided by nbgrader, which provides access to a database to store information about students and their grades:"
   ]
  },
  {
   "cell_type": "code",
   "execution_count": 3,
   "metadata": {
    "collapsed": true
   },
   "outputs": [
    {
     "ename": "ImportError",
     "evalue": "No module named 'nbgrader'",
     "output_type": "error",
     "traceback": [
      "\u001b[0;31m---------------------------------------------------------------------------\u001b[0m",
      "\u001b[0;31mImportError\u001b[0m                               Traceback (most recent call last)",
      "\u001b[0;32m<ipython-input-3-48cbd9b9b947>\u001b[0m in \u001b[0;36m<module>\u001b[0;34m()\u001b[0m\n\u001b[1;32m      1\u001b[0m \u001b[0;31m# create a connection to the db using the nbgrader API\u001b[0m\u001b[0;34m\u001b[0m\u001b[0;34m\u001b[0m\u001b[0m\n\u001b[0;32m----> 2\u001b[0;31m \u001b[0;32mfrom\u001b[0m \u001b[0mnbgrader\u001b[0m\u001b[0;34m.\u001b[0m\u001b[0mapi\u001b[0m \u001b[0;32mimport\u001b[0m \u001b[0mGradebook\u001b[0m\u001b[0;34m\u001b[0m\u001b[0m\n\u001b[0m\u001b[1;32m      3\u001b[0m \u001b[0mgb\u001b[0m \u001b[0;34m=\u001b[0m \u001b[0mGradebook\u001b[0m\u001b[0;34m(\u001b[0m\u001b[0;34m\"sqlite:////tmp/nbgrader_example.db\"\u001b[0m\u001b[0;34m)\u001b[0m\u001b[0;34m\u001b[0m\u001b[0m\n",
      "\u001b[0;31mImportError\u001b[0m: No module named 'nbgrader'"
     ]
    }
   ],
   "source": [
    "# create a connection to the db using the nbgrader API\n",
    "from nbgrader.api import Gradebook\n",
    "gb = Gradebook(\"sqlite:////tmp/nbgrader_example.db\")"
   ]
  },
  {
   "cell_type": "code",
   "execution_count": 4,
   "metadata": {
    "collapsed": false
   },
   "outputs": [
    {
     "ename": "NameError",
     "evalue": "name 'gb' is not defined",
     "output_type": "error",
     "traceback": [
      "\u001b[0;31m---------------------------------------------------------------------------\u001b[0m",
      "\u001b[0;31mNameError\u001b[0m                                 Traceback (most recent call last)",
      "\u001b[0;32m<ipython-input-4-0345613baa74>\u001b[0m in \u001b[0;36m<module>\u001b[0;34m()\u001b[0m\n\u001b[1;32m      1\u001b[0m \u001b[0;31m# create some students and add them to the database\u001b[0m\u001b[0;34m\u001b[0m\u001b[0;34m\u001b[0m\u001b[0m\n\u001b[0;32m----> 2\u001b[0;31m \u001b[0mgb\u001b[0m\u001b[0;34m.\u001b[0m\u001b[0madd_student\u001b[0m\u001b[0;34m(\u001b[0m\u001b[0;34m\"Bitdiddle\"\u001b[0m\u001b[0;34m,\u001b[0m \u001b[0mfirst_name\u001b[0m\u001b[0;34m=\u001b[0m\u001b[0;34m\"Ben\"\u001b[0m\u001b[0;34m,\u001b[0m \u001b[0mlast_name\u001b[0m\u001b[0;34m=\u001b[0m\u001b[0;34m\"Bitdiddle\"\u001b[0m\u001b[0;34m)\u001b[0m\u001b[0;34m\u001b[0m\u001b[0m\n\u001b[0m\u001b[1;32m      3\u001b[0m \u001b[0mgb\u001b[0m\u001b[0;34m.\u001b[0m\u001b[0madd_student\u001b[0m\u001b[0;34m(\u001b[0m\u001b[0;34m\"Hacker\"\u001b[0m\u001b[0;34m,\u001b[0m \u001b[0mfirst_name\u001b[0m\u001b[0;34m=\u001b[0m\u001b[0;34m\"Alyssa\"\u001b[0m\u001b[0;34m,\u001b[0m \u001b[0mlast_name\u001b[0m\u001b[0;34m=\u001b[0m\u001b[0;34m\"Hacker\"\u001b[0m\u001b[0;34m)\u001b[0m\u001b[0;34m\u001b[0m\u001b[0m\n\u001b[1;32m      4\u001b[0m \u001b[0mgb\u001b[0m\u001b[0;34m.\u001b[0m\u001b[0madd_student\u001b[0m\u001b[0;34m(\u001b[0m\u001b[0;34m\"Reasoner\"\u001b[0m\u001b[0;34m,\u001b[0m \u001b[0mfirst_name\u001b[0m\u001b[0;34m=\u001b[0m\u001b[0;34m\"Louis\"\u001b[0m\u001b[0;34m,\u001b[0m \u001b[0mlast_name\u001b[0m\u001b[0;34m=\u001b[0m\u001b[0;34m\"Reasoner\"\u001b[0m\u001b[0;34m)\u001b[0m\u001b[0;34m\u001b[0m\u001b[0m\n\u001b[1;32m      5\u001b[0m \u001b[0mgb\u001b[0m\u001b[0;34m.\u001b[0m\u001b[0mstudents\u001b[0m\u001b[0;34m\u001b[0m\u001b[0m\n",
      "\u001b[0;31mNameError\u001b[0m: name 'gb' is not defined"
     ]
    }
   ],
   "source": [
    "# create some students and add them to the database\n",
    "gb.add_student(\"Bitdiddle\", first_name=\"Ben\", last_name=\"Bitdiddle\")\n",
    "gb.add_student(\"Hacker\", first_name=\"Alyssa\", last_name=\"Hacker\")\n",
    "gb.add_student(\"Reasoner\", first_name=\"Louis\", last_name=\"Reasoner\")\n",
    "gb.students"
   ]
  },
  {
   "cell_type": "markdown",
   "metadata": {},
   "source": [
    "Note that the assignment should also already be in the database. An example of how to add it is given in [3 - Releasing assignments.ipynb](3 - Releasing assignments.ipynb#Recording-grade-cells)."
   ]
  },
  {
   "cell_type": "markdown",
   "metadata": {},
   "source": [
    "## Run the autograder"
   ]
  },
  {
   "cell_type": "markdown",
   "metadata": {},
   "source": [
    "Now that we've set up the database, we can grade the assignments. We will need to run the `nbgrader autograde` command twice (once for each student). Each time we run it, we need to specify:\n",
    "\n",
    "* that we want to grade the notebooks in the `submitted/$student_id` directory\n",
    "* that we want to copy the results to the `autograded/$student_id` directory\n",
    "* what the student id is `$student_id`\n",
    "* that the assignment is \"Problem Set 1\"\n",
    "* that the database is a sqlite database at `/tmp/nbgrader_example.db`"
   ]
  },
  {
   "cell_type": "code",
   "execution_count": 5,
   "metadata": {
    "collapsed": false
   },
   "outputs": [
    {
     "name": "stderr",
     "output_type": "stream",
     "text": [
      "Traceback (most recent call last):\n",
      "  File \"/usr/local/bin/nbgrader\", line 4, in <module>\n",
      "    __import__('pkg_resources').require('nbgrader==0.1')\n",
      "  File \"build/bdist.macosx-10.10-x86_64/egg/pkg_resources/__init__.py\", line 3018, in <module>\n",
      "  File \"build/bdist.macosx-10.10-x86_64/egg/pkg_resources/__init__.py\", line 612, in _build_master\n",
      "  File \"build/bdist.macosx-10.10-x86_64/egg/pkg_resources/__init__.py\", line 918, in require\n",
      "  File \"build/bdist.macosx-10.10-x86_64/egg/pkg_resources/__init__.py\", line 805, in resolve\n",
      "pkg_resources.DistributionNotFound: nbgrader==0.1\n",
      "Traceback (most recent call last):\n",
      "  File \"/usr/local/bin/nbgrader\", line 4, in <module>\n",
      "    __import__('pkg_resources').require('nbgrader==0.1')\n",
      "  File \"build/bdist.macosx-10.10-x86_64/egg/pkg_resources/__init__.py\", line 3018, in <module>\n",
      "  File \"build/bdist.macosx-10.10-x86_64/egg/pkg_resources/__init__.py\", line 612, in _build_master\n",
      "  File \"build/bdist.macosx-10.10-x86_64/egg/pkg_resources/__init__.py\", line 918, in require\n",
      "  File \"build/bdist.macosx-10.10-x86_64/egg/pkg_resources/__init__.py\", line 805, in resolve\n",
      "pkg_resources.DistributionNotFound: nbgrader==0.1\n"
     ]
    }
   ],
   "source": [
    "%%bash\n",
    "\n",
    "for student_id in $(ls submitted); do\n",
    "    nbgrader autograde submitted/$student_id/*.ipynb \\\n",
    "        --build-dir=autograded/$student_id \\\n",
    "        --student=$student_id \\\n",
    "        --assignment=\"Problem Set 1\" \\\n",
    "        --db=\"sqlite:////tmp/nbgrader_example.db\"\n",
    "done"
   ]
  },
  {
   "cell_type": "markdown",
   "metadata": {},
   "source": [
    "Now if we look at the `autograded` directory, we see:\n",
    "\n",
    "* [Bitdiddle/Problem 1.ipynb](grade_example/autograded/Bitdiddle/Problem 1.ipynb)\n",
    "* [Bitdiddle/Problem 2.ipynb](grade_example/autograded/Bitdiddle/Problem 2.ipynb)\n",
    "* [Hacker/Problem 1.ipynb](grade_example/autograded/Hacker/Problem 1.ipynb)\n",
    "* [Hacker/Problem 2.ipynb](grade_example/autograded/Hacker/Problem 2.ipynb)"
   ]
  },
  {
   "cell_type": "code",
   "execution_count": 6,
   "metadata": {
    "collapsed": false
   },
   "outputs": [
    {
     "name": "stdout",
     "output_type": "stream",
     "text": [
      "ls: autograded: No such file or directory\r\n"
     ]
    }
   ],
   "source": [
    "ls -R autograded"
   ]
  },
  {
   "cell_type": "markdown",
   "metadata": {},
   "source": [
    "## Replacing grade cells"
   ]
  },
  {
   "cell_type": "markdown",
   "metadata": {},
   "source": [
    "If we [released the assignment with `--save-cells`](3 - Releasing assignments.ipynb#Recording-grade-cells) (i.e., we saved the grade cells into the database, then we can ensure the grade cells are the same as when the assignment was released by passing the `--overwrite-cells` flag to `nbgrader autograde`:"
   ]
  },
  {
   "cell_type": "code",
   "execution_count": 7,
   "metadata": {
    "collapsed": false,
    "scrolled": true
   },
   "outputs": [
    {
     "name": "stderr",
     "output_type": "stream",
     "text": [
      "Traceback (most recent call last):\n",
      "  File \"/usr/local/bin/nbgrader\", line 4, in <module>\n",
      "    __import__('pkg_resources').require('nbgrader==0.1')\n",
      "  File \"build/bdist.macosx-10.10-x86_64/egg/pkg_resources/__init__.py\", line 3018, in <module>\n",
      "  File \"build/bdist.macosx-10.10-x86_64/egg/pkg_resources/__init__.py\", line 612, in _build_master\n",
      "  File \"build/bdist.macosx-10.10-x86_64/egg/pkg_resources/__init__.py\", line 918, in require\n",
      "  File \"build/bdist.macosx-10.10-x86_64/egg/pkg_resources/__init__.py\", line 805, in resolve\n",
      "pkg_resources.DistributionNotFound: nbgrader==0.1\n",
      "Traceback (most recent call last):\n",
      "  File \"/usr/local/bin/nbgrader\", line 4, in <module>\n",
      "    __import__('pkg_resources').require('nbgrader==0.1')\n",
      "  File \"build/bdist.macosx-10.10-x86_64/egg/pkg_resources/__init__.py\", line 3018, in <module>\n",
      "  File \"build/bdist.macosx-10.10-x86_64/egg/pkg_resources/__init__.py\", line 612, in _build_master\n",
      "  File \"build/bdist.macosx-10.10-x86_64/egg/pkg_resources/__init__.py\", line 918, in require\n",
      "  File \"build/bdist.macosx-10.10-x86_64/egg/pkg_resources/__init__.py\", line 805, in resolve\n",
      "pkg_resources.DistributionNotFound: nbgrader==0.1\n"
     ]
    }
   ],
   "source": [
    "%%bash\n",
    "\n",
    "for student_id in $(ls submitted); do\n",
    "    nbgrader autograde submitted/$student_id/*.ipynb \\\n",
    "        --build-dir=autograded/$student_id \\\n",
    "        --student=$student_id \\\n",
    "        --assignment=\"Problem Set 1\" \\\n",
    "        --db=\"sqlite:////tmp/nbgrader_example.db\" \\\n",
    "        --overwrite-cells\n",
    "done"
   ]
  },
  {
   "cell_type": "markdown",
   "metadata": {},
   "source": [
    "Notice that for Ben Bitdiddle's submission for `Problem 1`, there are some cells that changed! If we look at his submission, we'll see that he actually commented out some of the test cell code, perhaps in an attempt to \"trick\" the grader. However, because we had saved the checksums and cell source in our database, we were able to overwrite his changes and grade his assignment with the correct tests"
   ]
  }
 ],
 "metadata": {
  "kernelspec": {
   "display_name": "Python 3",
   "language": "python",
   "name": "python3"
  },
  "language_info": {
   "codemirror_mode": {
    "name": "ipython",
    "version": 3
   },
   "file_extension": ".py",
   "mimetype": "text/x-python",
   "name": "python",
   "nbconvert_exporter": "python",
   "pygments_lexer": "ipython3",
   "version": "3.4.2"
  }
 },
 "nbformat": 4,
 "nbformat_minor": 0
}