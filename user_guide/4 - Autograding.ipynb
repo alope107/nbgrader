{
 "cells": [
  {
   "cell_type": "markdown",
   "metadata": {},
   "source": [
    "# Autograde a students' solution"
   ]
  },
  {
   "cell_type": "markdown",
   "metadata": {},
   "source": [
    "**These instructions are currently incomplete**."
   ]
  },
  {
   "cell_type": "code",
   "execution_count": 1,
   "metadata": {
    "collapsed": true
   },
   "outputs": [],
   "source": [
    "import os\n",
    "from nbgrader.utils import run"
   ]
  },
  {
   "cell_type": "code",
   "execution_count": 2,
   "metadata": {
    "collapsed": true
   },
   "outputs": [],
   "source": [
    "os.chdir('example')"
   ]
  },
  {
   "cell_type": "code",
   "execution_count": 3,
   "metadata": {
    "collapsed": false
   },
   "outputs": [
    {
     "name": "stdout",
     "output_type": "stream",
     "text": [
      "submitted:\n",
      "Bitdiddle\n",
      "Hacker\n",
      "\n",
      "submitted/Bitdiddle:\n",
      "Problem Set 1\n",
      "\n",
      "submitted/Bitdiddle/Problem Set 1:\n",
      "Problem 1.ipynb\n",
      "Problem 2.ipynb\n",
      "\n",
      "submitted/Hacker:\n",
      "Problem Set 1\n",
      "\n",
      "submitted/Hacker/Problem Set 1:\n",
      "Problem 1.ipynb\n",
      "Problem 2.ipynb\n",
      "\n"
     ]
    }
   ],
   "source": [
    "run('ls -R submitted')"
   ]
  },
  {
   "cell_type": "markdown",
   "metadata": {},
   "source": [
    "## Initialize the database"
   ]
  },
  {
   "cell_type": "markdown",
   "metadata": {},
   "source": [
    "Before we can actually start grading, we need to actually record who the students are. We can do this using the API provided by nbgrader, which provides access to a database to store information about students and their grades:"
   ]
  },
  {
   "cell_type": "code",
   "execution_count": 4,
   "metadata": {
    "collapsed": true
   },
   "outputs": [],
   "source": [
    "# create a connection to the db using the nbgrader API\n",
    "from nbgrader.api import Gradebook\n",
    "gb = Gradebook(\"sqlite:///gradebook.db\")"
   ]
  },
  {
   "cell_type": "code",
   "execution_count": 5,
   "metadata": {
    "collapsed": false
   },
   "outputs": [
    {
     "data": {
      "text/plain": [
       "[Bitdiddle, Hacker, Reasoner]"
      ]
     },
     "execution_count": 5,
     "metadata": {},
     "output_type": "execute_result"
    }
   ],
   "source": [
    "# create some students and add them to the database\n",
    "gb.add_student(\"Bitdiddle\", first_name=\"Ben\", last_name=\"Bitdiddle\")\n",
    "gb.add_student(\"Hacker\", first_name=\"Alyssa\", last_name=\"Hacker\")\n",
    "gb.add_student(\"Reasoner\", first_name=\"Louis\", last_name=\"Reasoner\")\n",
    "gb.students"
   ]
  },
  {
   "cell_type": "markdown",
   "metadata": {},
   "source": [
    "Note that the assignment should also already be in the database. An example of how to add it is given in [3 - Releasing assignments.ipynb](3 - Releasing assignments.ipynb#Recording-grade-cells)."
   ]
  },
  {
   "cell_type": "markdown",
   "metadata": {},
   "source": [
    "## Run the autograder"
   ]
  },
  {
   "cell_type": "code",
   "execution_count": 6,
   "metadata": {
    "collapsed": false
   },
   "outputs": [
    {
     "name": "stdout",
     "output_type": "stream",
     "text": [
      "[AutogradeApp | INFO] Converting notebook submitted/Bitdiddle/Problem Set 1/Problem 1.ipynb to notebook\n",
      "[AutogradeApp | WARNING] Checksum for grade cell correct_squares has changed!\n",
      "[AutogradeApp | WARNING] Checksum for grade cell correct_sum_of_squares has changed!\n",
      "[AutogradeApp | INFO] Executing notebook with kernel: python\n",
      "[AutogradeApp | INFO] Writing 19290 bytes to autograded/Bitdiddle/Problem Set 1/Problem 1.ipynb\n",
      "[AutogradeApp | INFO] Converting notebook submitted/Bitdiddle/Problem Set 1/Problem 2.ipynb to notebook\n",
      "[AutogradeApp | INFO] Executing notebook with kernel: python\n",
      "[AutogradeApp | INFO] Writing 2480 bytes to autograded/Bitdiddle/Problem Set 1/Problem 2.ipynb\n",
      "[AutogradeApp | INFO] Converting notebook submitted/Hacker/Problem Set 1/Problem 1.ipynb to notebook\n",
      "[AutogradeApp | INFO] Executing notebook with kernel: python\n",
      "[AutogradeApp | INFO] Writing 7075 bytes to autograded/Hacker/Problem Set 1/Problem 1.ipynb\n",
      "[AutogradeApp | INFO] Converting notebook submitted/Hacker/Problem Set 1/Problem 2.ipynb to notebook\n",
      "[AutogradeApp | INFO] Executing notebook with kernel: python\n",
      "[AutogradeApp | INFO] Writing 2572 bytes to autograded/Hacker/Problem Set 1/Problem 2.ipynb\n",
      "\n"
     ]
    }
   ],
   "source": [
    "run('nbgrader autograde \"Problem Set 1\"')"
   ]
  },
  {
   "cell_type": "code",
   "execution_count": 7,
   "metadata": {
    "collapsed": false
   },
   "outputs": [
    {
     "name": "stdout",
     "output_type": "stream",
     "text": [
      "autograded:\n",
      "Bitdiddle\n",
      "Hacker\n",
      "\n",
      "autograded/Bitdiddle:\n",
      "Problem Set 1\n",
      "\n",
      "autograded/Bitdiddle/Problem Set 1:\n",
      "Problem 1.ipynb\n",
      "Problem 2.ipynb\n",
      "\n",
      "autograded/Hacker:\n",
      "Problem Set 1\n",
      "\n",
      "autograded/Hacker/Problem Set 1:\n",
      "Problem 1.ipynb\n",
      "Problem 2.ipynb\n",
      "\n"
     ]
    }
   ],
   "source": [
    "run('ls -R autograded')"
   ]
  }
 ],
 "metadata": {},
 "nbformat": 4,
 "nbformat_minor": 0
}