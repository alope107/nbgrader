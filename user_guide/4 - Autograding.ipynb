{
 "cells": [
  {
   "cell_type": "code",
   "execution_count": 1,
   "metadata": {
    "collapsed": true
   },
   "outputs": [],
   "source": [
    "import os"
   ]
  },
  {
   "cell_type": "markdown",
   "metadata": {},
   "source": [
    "# Autograde a students' solution"
   ]
  },
  {
   "cell_type": "markdown",
   "metadata": {},
   "source": [
    "<div class=\"alert alert-warning\">For the full documentation on `nbgrader autograde` (including the list of all configurable options), run `nbgrader autograde --help-all`.</div>"
   ]
  },
  {
   "cell_type": "markdown",
   "metadata": {},
   "source": [
    "After assignments have been submitted by students, you will want to save them into a `submitted` directory. As described in [the philosophy and the approach](1 - Philosophy.ipynb), you need to organize your files in a particular way. For autograding assignments, you should have the submitted versions of students' assignmetns organized as follows:\n",
    "\n",
    "```\n",
    "submitted/{student_id}/{assignment_id}/{notebook_id}.ipynb\n",
    "```\n",
    "\n",
    "After running `nbgrader autograde`, the autograded version of the notebooks will be:\n",
    "\n",
    "```\n",
    "autograded/{student_id}/{assignment_id}/{notebook_id}.ipynb\n",
    "```"
   ]
  },
  {
   "cell_type": "markdown",
   "metadata": {},
   "source": [
    "## Example"
   ]
  },
  {
   "cell_type": "code",
   "execution_count": 2,
   "metadata": {
    "collapsed": true
   },
   "outputs": [],
   "source": [
    "os.chdir('example')"
   ]
  },
  {
   "cell_type": "markdown",
   "metadata": {},
   "source": [
    "In the following example, we have an assignment with two notebooks. There are two submissions of the assignment:\n",
    "\n",
    "* [submitted/Bitdiddle/Problem Set 1](example/submitted/Bitdiddle/Problem Set 1)\n",
    "* [submitted/Hacker/Problem Set 1](example/submitted/Hacker/Problem Set 1)"
   ]
  },
  {
   "cell_type": "markdown",
   "metadata": {},
   "source": [
    "Before we can actually start grading, we need to actually record who the students are. We can do this using the API provided by nbgrader, which provides access to a database to store information about students and their grades:"
   ]
  },
  {
   "cell_type": "code",
   "execution_count": 3,
   "metadata": {
    "collapsed": false
   },
   "outputs": [
    {
     "data": {
      "text/plain": [
       "[Bitdiddle, Hacker, Reasoner]"
      ]
     },
     "execution_count": 3,
     "metadata": {},
     "output_type": "execute_result"
    }
   ],
   "source": [
    "# create a connection to the db using the nbgrader API\n",
    "from nbgrader.api import Gradebook\n",
    "gb = Gradebook(\"sqlite:///gradebook.db\")\n",
    "\n",
    "# create some students and add them to the database\n",
    "gb.add_student(\"Bitdiddle\", first_name=\"Ben\", last_name=\"Bitdiddle\")\n",
    "gb.add_student(\"Hacker\", first_name=\"Alyssa\", last_name=\"Hacker\")\n",
    "gb.add_student(\"Reasoner\", first_name=\"Louis\", last_name=\"Reasoner\")\n",
    "\n",
    "# show what students are in the database\n",
    "gb.students"
   ]
  },
  {
   "cell_type": "markdown",
   "metadata": {},
   "source": [
    "Note: the assignment should also already be in the database. An example of how to add it is given in [3 - Releasing assignments.ipynb](3 - Releasing assignments.ipynb#Recording-grade-cells)."
   ]
  },
  {
   "cell_type": "markdown",
   "metadata": {},
   "source": [
    "Once the database has been set up with the students, we can run the autograder:"
   ]
  },
  {
   "cell_type": "code",
   "execution_count": 4,
   "metadata": {
    "collapsed": false
   },
   "outputs": [
    {
     "name": "stderr",
     "output_type": "stream",
     "text": [
      "[AutogradeApp | INFO] Linking submitted/Hacker/Problem Set 1/timestamp.txt -> autograded/Hacker/Problem Set 1/timestamp.txt\n",
      "[AutogradeApp | INFO] Problem Set 1 for Hacker submitted at 2015-02-01 09:28:58.749302\n",
      "[AutogradeApp | INFO] Converting notebook submitted/Hacker/Problem Set 1/Problem 1.ipynb to notebook\n",
      "[AutogradeApp | INFO] Executing notebook with kernel: python\n",
      "[AutogradeApp | INFO] Writing 7075 bytes to autograded/Hacker/Problem Set 1/Problem 1.ipynb\n",
      "[AutogradeApp | INFO] Converting notebook submitted/Hacker/Problem Set 1/Problem 2.ipynb to notebook\n",
      "[AutogradeApp | INFO] Executing notebook with kernel: python\n",
      "[AutogradeApp | INFO] Writing 2572 bytes to autograded/Hacker/Problem Set 1/Problem 2.ipynb\n",
      "[AutogradeApp | INFO] Linking submitted/Bitdiddle/Problem Set 1/timestamp.txt -> autograded/Bitdiddle/Problem Set 1/timestamp.txt\n",
      "[AutogradeApp | INFO] Problem Set 1 for Bitdiddle submitted at 2015-02-02 14:58:23.948203\n",
      "[AutogradeApp | WARNING] Problem Set 1 for Bitdiddle is 86303.948203 seconds late\n",
      "[AutogradeApp | INFO] Converting notebook submitted/Bitdiddle/Problem Set 1/Problem 1.ipynb to notebook\n",
      "[AutogradeApp | WARNING] Checksum for grade cell correct_squares has changed!\n",
      "[AutogradeApp | WARNING] Checksum for grade cell correct_sum_of_squares has changed!\n",
      "[AutogradeApp | INFO] Executing notebook with kernel: python\n",
      "[AutogradeApp | INFO] Writing 19290 bytes to autograded/Bitdiddle/Problem Set 1/Problem 1.ipynb\n",
      "[AutogradeApp | INFO] Converting notebook submitted/Bitdiddle/Problem Set 1/Problem 2.ipynb to notebook\n",
      "[AutogradeApp | INFO] Executing notebook with kernel: python\n",
      "[AutogradeApp | INFO] Writing 2480 bytes to autograded/Bitdiddle/Problem Set 1/Problem 2.ipynb\n"
     ]
    }
   ],
   "source": [
    "%%bash\n",
    "\n",
    "nbgrader autograde \"Problem Set 1\""
   ]
  },
  {
   "cell_type": "markdown",
   "metadata": {},
   "source": [
    "When grading the submission for `Bitdiddle`, you'll see some warnings that look like \"Checksum for grade cell correct_squares has changed!\". What's happening here is that nbgrader has recorded what the *original* contents of the grade cell `correct_squares` (when `nbgrader assign` was run), and is checking the submitted version against this original version. It has found that the submitted version changed (perhaps this student tried to cheat by commenting out the failing tests), and has therefore overwritten the submitted version of the tests with the original version of the tests.\n",
    "\n",
    "You may also notice that there is a note saying \"Problem Set 1 for Bitdiddle is 86303.948203 seconds late\". What is happening here is that nbgrader is detecting a file in Bitdiddle's submission called `timestamp.txt`, reading in that timestamp, and saving it into the database. From there, it can compare the timestamp to the duedate of the problem set, and compute whether the submission is at all late.\n",
    "\n",
    "Once the autograding is complete, there will be new directories for the autograded versions of the submissions:\n",
    "\n",
    "* [autograded/Bitdiddle/Problem Set 1](example/autograded/Bitdiddle/Problem Set 1)\n",
    "* [autograded/Hacker/Problem Set 1](example/autograded/Hacker/Problem Set 1)"
   ]
  }
 ],
 "metadata": {},
 "nbformat": 4,
 "nbformat_minor": 0
}