{
 "cells": [
  {
   "cell_type": "markdown",
   "metadata": {},
   "source": [
    "# Autograde a students' solution"
   ]
  },
  {
   "cell_type": "markdown",
   "metadata": {},
   "source": [
    "**These instructions are currently incomplete**.\n",
    "\n",
    "Let's say that students have turned in their notebooks with a special naming convention of `Lastname/Problem N.ipynb`, where `N` is the problem number and `Lastname` is a directory named with the student's last name. In this example, we have a few submitted assignments:\n",
    "\n",
    "* [Bitdiddle/Problem 1.ipynb](grade_example/submitted/Bitdiddle/Problem 1.ipynb)\n",
    "* [Bitdiddle/Problem 2.ipynb](grade_example/submitted/Bitdiddle/Problem 2.ipynb)\n",
    "* [Hacker/Problem 1.ipynb](grade_example/submitted/Hacker/Problem 1.ipynb)\n",
    "* [Hacker/Problem 2.ipynb](grade_example/submitted/Hacker/Problem 2.ipynb)"
   ]
  },
  {
   "cell_type": "code",
   "execution_count": 1,
   "metadata": {
    "collapsed": false
   },
   "outputs": [
    {
     "name": "stdout",
     "output_type": "stream",
     "text": [
      "/home/travis/build/jupyter/nbgrader/user_guide/grade_example\n"
     ]
    }
   ],
   "source": [
    "cd grade_example"
   ]
  },
  {
   "cell_type": "code",
   "execution_count": 2,
   "metadata": {
    "collapsed": false
   },
   "outputs": [
    {
     "name": "stdout",
     "output_type": "stream",
     "text": [
      ".:\r\n",
      "nbgrader_formgrade_config.py  \u001b[0m\u001b[01;34msubmitted\u001b[0m/\r\n",
      "\r\n",
      "./submitted:\r\n",
      "\u001b[01;34mBitdiddle\u001b[0m/  \u001b[01;34mHacker\u001b[0m/\r\n",
      "\r\n",
      "./submitted/Bitdiddle:\r\n",
      "Problem 1.ipynb  Problem 2.ipynb\r\n",
      "\r\n",
      "./submitted/Hacker:\r\n",
      "Problem 1.ipynb  Problem 2.ipynb\r\n"
     ]
    }
   ],
   "source": [
    "ls -R"
   ]
  },
  {
   "cell_type": "markdown",
   "metadata": {},
   "source": [
    "## Initialize the database"
   ]
  },
  {
   "cell_type": "markdown",
   "metadata": {},
   "source": [
    "Before we can actually start grading, we need to actually record who the students are. We can do this using the API provided by nbgrader, which provides access to a database to store information about students and their grades:"
   ]
  },
  {
   "cell_type": "code",
   "execution_count": 3,
   "metadata": {
    "collapsed": true
   },
   "outputs": [],
   "source": [
    "# create a connection to the db using the nbgrader API\n",
    "from nbgrader.api import Gradebook\n",
    "gb = Gradebook(\"sqlite:////tmp/nbgrader_example.db\")"
   ]
  },
  {
   "cell_type": "code",
   "execution_count": 4,
   "metadata": {
    "collapsed": false
   },
   "outputs": [
    {
     "data": {
      "text/plain": [
       "[Bitdiddle, Hacker, Reasoner]"
      ]
     },
     "execution_count": 4,
     "metadata": {},
     "output_type": "execute_result"
    }
   ],
   "source": [
    "# create some students and add them to the database\n",
    "gb.add_student(\"Bitdiddle\", first_name=\"Ben\", last_name=\"Bitdiddle\")\n",
    "gb.add_student(\"Hacker\", first_name=\"Alyssa\", last_name=\"Hacker\")\n",
    "gb.add_student(\"Reasoner\", first_name=\"Louis\", last_name=\"Reasoner\")\n",
    "gb.students"
   ]
  },
  {
   "cell_type": "markdown",
   "metadata": {},
   "source": [
    "Note that the assignment should also already be in the database. An example of how to add it is given in [3 - Releasing assignments.ipynb](3 - Releasing assignments.ipynb#Recording-grade-cells)."
   ]
  },
  {
   "cell_type": "markdown",
   "metadata": {},
   "source": [
    "## Run the autograder"
   ]
  },
  {
   "cell_type": "markdown",
   "metadata": {},
   "source": [
    "Now that we've set up the database, we can grade the assignments. We will need to run the `nbgrader autograde` command twice (once for each student). Each time we run it, we need to specify:\n",
    "\n",
    "* that we want to grade the notebooks in the `submitted/$student_id` directory\n",
    "* that we want to copy the results to the `autograded/$student_id` directory\n",
    "* what the student id is `$student_id`\n",
    "* that the assignment is \"Problem Set 1\"\n",
    "* that the database is a sqlite database at `/tmp/nbgrader_example.db`"
   ]
  },
  {
   "cell_type": "code",
   "execution_count": 5,
   "metadata": {
    "collapsed": false
   },
   "outputs": [
    {
     "name": "stderr",
     "output_type": "stream",
     "text": [
      "[AutogradeApp] Using existing profile dir: '/home/travis/.ipython/profile_nbgrader'\n",
      "[AutogradeApp] WARNING | Generating default config file: '/home/travis/.ipython/profile_nbgrader/nbgrader_autograde_config.py'\n",
      "[AutogradeApp] Converting notebook submitted/Bitdiddle/Problem 1.ipynb to assignment\n",
      "[AutogradeApp] Support files will be in Problem 1_files/\n",
      "[AutogradeApp] Student ID: Bitdiddle\n",
      "Traceback (most recent call last):\n",
      "  File \"/home/travis/virtualenv/python3.4.2/bin/nbgrader\", line 4, in <module>\n",
      "    main()\n",
      "  File \"/home/travis/virtualenv/python3.4.2/lib/python3.4/site-packages/nbgrader/apps/nbgraderapp.py\", line 51, in main\n",
      "    NbGraderApp.launch_instance()\n",
      "  File \"/home/travis/ipython/IPython/config/application.py\", line 574, in launch_instance\n",
      "    app.start()\n",
      "  File \"/home/travis/virtualenv/python3.4.2/lib/python3.4/site-packages/nbgrader/apps/nbgraderapp.py\", line 48, in start\n",
      "    super(NbGraderApp, self).start()\n",
      "  File \"/home/travis/ipython/IPython/config/application.py\", line 260, in start\n",
      "    return self.subapp.start()\n",
      "  File \"/home/travis/ipython/IPython/nbconvert/nbconvertapp.py\", line 278, in start\n",
      "    self.convert_notebooks()\n",
      "  File \"/home/travis/ipython/IPython/nbconvert/nbconvertapp.py\", line 317, in convert_notebooks\n",
      "    output, resources = exporter.from_filename(notebook_filename, resources=resources)\n",
      "  File \"/home/travis/virtualenv/python3.4.2/lib/python3.4/site-packages/nbgrader/exporters/assignmentexporter.py\", line 66, in from_filename\n",
      "    filename, resources=resources, **kw)\n",
      "  File \"/home/travis/ipython/IPython/nbconvert/exporters/exporter.py\", line 154, in from_filename\n",
      "    return self.from_notebook_node(nbformat.read(f, as_version=4), resources=resources, **kw)\n",
      "  File \"/home/travis/ipython/IPython/nbconvert/exporters/notebook.py\", line 26, in from_notebook_node\n",
      "    nb_copy, resources = super(NotebookExporter, self).from_notebook_node(nb, resources, **kw)\n",
      "  File \"/home/travis/ipython/IPython/nbconvert/exporters/exporter.py\", line 125, in from_notebook_node\n",
      "    nb_copy, resources = self._preprocess(nb_copy, resources)\n",
      "  File \"/home/travis/ipython/IPython/nbconvert/exporters/exporter.py\", line 279, in _preprocess\n",
      "    nbc, resc = preprocessor(nbc, resc)\n",
      "  File \"/home/travis/ipython/IPython/nbconvert/preprocessors/base.py\", line 47, in __call__\n",
      "    return self.preprocess(nb,resources)\n",
      "  File \"/home/travis/virtualenv/python3.4.2/lib/python3.4/site-packages/nbgrader/preprocessors/savecells.py\", line 26, in preprocess\n",
      "    nb, resources = super(SaveCells, self).preprocess(nb, resources)\n",
      "  File \"/home/travis/ipython/IPython/nbconvert/preprocessors/base.py\", line 70, in preprocess\n",
      "    nb.cells[index], resources = self.preprocess_cell(cell, resources, index)\n",
      "  File \"/home/travis/virtualenv/python3.4.2/lib/python3.4/site-packages/nbgrader/preprocessors/savecells.py\", line 51, in preprocess_cell\n",
      "    checksum = cell.metadata.nbgrader['checksum']\n",
      "KeyError: 'checksum'\n",
      "\n",
      "If you suspect this is an IPython bug, please report it at:\n",
      "    https://github.com/ipython/ipython/issues\n",
      "or send an email to the mailing list at ipython-dev@scipy.org\n",
      "\n",
      "You can print a more detailed traceback right now with \"%tb\", or use \"%debug\"\n",
      "to interactively debug it.\n",
      "\n",
      "Extra-detailed tracebacks for bug-reporting purposes can be enabled via:\n",
      "    c.Application.verbose_crash=True\n",
      "\n",
      "[AutogradeApp] Using existing profile dir: '/home/travis/.ipython/profile_nbgrader'\n",
      "[AutogradeApp] Converting notebook submitted/Hacker/Problem 1.ipynb to assignment\n",
      "[AutogradeApp] Support files will be in Problem 1_files/\n",
      "[AutogradeApp] Student ID: Hacker\n",
      "Traceback (most recent call last):\n",
      "  File \"/home/travis/virtualenv/python3.4.2/bin/nbgrader\", line 4, in <module>\n",
      "    main()\n",
      "  File \"/home/travis/virtualenv/python3.4.2/lib/python3.4/site-packages/nbgrader/apps/nbgraderapp.py\", line 51, in main\n",
      "    NbGraderApp.launch_instance()\n",
      "  File \"/home/travis/ipython/IPython/config/application.py\", line 574, in launch_instance\n",
      "    app.start()\n",
      "  File \"/home/travis/virtualenv/python3.4.2/lib/python3.4/site-packages/nbgrader/apps/nbgraderapp.py\", line 48, in start\n",
      "    super(NbGraderApp, self).start()\n",
      "  File \"/home/travis/ipython/IPython/config/application.py\", line 260, in start\n",
      "    return self.subapp.start()\n",
      "  File \"/home/travis/ipython/IPython/nbconvert/nbconvertapp.py\", line 278, in start\n",
      "    self.convert_notebooks()\n",
      "  File \"/home/travis/ipython/IPython/nbconvert/nbconvertapp.py\", line 317, in convert_notebooks\n",
      "    output, resources = exporter.from_filename(notebook_filename, resources=resources)\n",
      "  File \"/home/travis/virtualenv/python3.4.2/lib/python3.4/site-packages/nbgrader/exporters/assignmentexporter.py\", line 66, in from_filename\n",
      "    filename, resources=resources, **kw)\n",
      "  File \"/home/travis/ipython/IPython/nbconvert/exporters/exporter.py\", line 154, in from_filename\n",
      "    return self.from_notebook_node(nbformat.read(f, as_version=4), resources=resources, **kw)\n",
      "  File \"/home/travis/ipython/IPython/nbconvert/exporters/notebook.py\", line 26, in from_notebook_node\n",
      "    nb_copy, resources = super(NotebookExporter, self).from_notebook_node(nb, resources, **kw)\n",
      "  File \"/home/travis/ipython/IPython/nbconvert/exporters/exporter.py\", line 125, in from_notebook_node\n",
      "    nb_copy, resources = self._preprocess(nb_copy, resources)\n",
      "  File \"/home/travis/ipython/IPython/nbconvert/exporters/exporter.py\", line 279, in _preprocess\n",
      "    nbc, resc = preprocessor(nbc, resc)\n",
      "  File \"/home/travis/ipython/IPython/nbconvert/preprocessors/base.py\", line 47, in __call__\n",
      "    return self.preprocess(nb,resources)\n",
      "  File \"/home/travis/virtualenv/python3.4.2/lib/python3.4/site-packages/nbgrader/preprocessors/savecells.py\", line 26, in preprocess\n",
      "    nb, resources = super(SaveCells, self).preprocess(nb, resources)\n",
      "  File \"/home/travis/ipython/IPython/nbconvert/preprocessors/base.py\", line 70, in preprocess\n",
      "    nb.cells[index], resources = self.preprocess_cell(cell, resources, index)\n",
      "  File \"/home/travis/virtualenv/python3.4.2/lib/python3.4/site-packages/nbgrader/preprocessors/savecells.py\", line 51, in preprocess_cell\n",
      "    checksum = cell.metadata.nbgrader['checksum']\n",
      "KeyError: 'checksum'\n",
      "\n",
      "If you suspect this is an IPython bug, please report it at:\n",
      "    https://github.com/ipython/ipython/issues\n",
      "or send an email to the mailing list at ipython-dev@scipy.org\n",
      "\n",
      "You can print a more detailed traceback right now with \"%tb\", or use \"%debug\"\n",
      "to interactively debug it.\n",
      "\n",
      "Extra-detailed tracebacks for bug-reporting purposes can be enabled via:\n",
      "    c.Application.verbose_crash=True\n",
      "\n"
     ]
    }
   ],
   "source": [
    "%%bash\n",
    "\n",
    "for student_id in $(ls submitted); do\n",
    "    nbgrader autograde submitted/$student_id/*.ipynb \\\n",
    "        --build-dir=autograded/$student_id \\\n",
    "        --student=$student_id \\\n",
    "        --assignment=\"Problem Set 1\" \\\n",
    "        --db=\"sqlite:////tmp/nbgrader_example.db\"\n",
    "done"
   ]
  },
  {
   "cell_type": "markdown",
   "metadata": {},
   "source": [
    "Now if we look at the `autograded` directory, we see:\n",
    "\n",
    "* [Bitdiddle/Problem 1.ipynb](grade_example/autograded/Bitdiddle/Problem 1.ipynb)\n",
    "* [Bitdiddle/Problem 2.ipynb](grade_example/autograded/Bitdiddle/Problem 2.ipynb)\n",
    "* [Hacker/Problem 1.ipynb](grade_example/autograded/Hacker/Problem 1.ipynb)\n",
    "* [Hacker/Problem 2.ipynb](grade_example/autograded/Hacker/Problem 2.ipynb)"
   ]
  },
  {
   "cell_type": "code",
   "execution_count": 6,
   "metadata": {
    "collapsed": false
   },
   "outputs": [
    {
     "name": "stdout",
     "output_type": "stream",
     "text": [
      "autograded:\r\n",
      "\u001b[0m\u001b[01;34mBitdiddle\u001b[0m/  \u001b[01;34mHacker\u001b[0m/\r\n",
      "\r\n",
      "autograded/Bitdiddle:\r\n",
      "\r\n",
      "autograded/Hacker:\r\n"
     ]
    }
   ],
   "source": [
    "ls -R autograded"
   ]
  },
  {
   "cell_type": "markdown",
   "metadata": {},
   "source": [
    "## Replacing grade cells"
   ]
  },
  {
   "cell_type": "markdown",
   "metadata": {},
   "source": [
    "If we [released the assignment with `--save-cells`](3 - Releasing assignments.ipynb#Recording-grade-cells) (i.e., we saved the grade cells into the database, then we can ensure the grade cells are the same as when the assignment was released by passing the `--overwrite-cells` flag to `nbgrader autograde`:"
   ]
  },
  {
   "cell_type": "code",
   "execution_count": 7,
   "metadata": {
    "collapsed": false,
    "scrolled": true
   },
   "outputs": [
    {
     "name": "stderr",
     "output_type": "stream",
     "text": [
      "[AutogradeApp] Using existing profile dir: '/home/travis/.ipython/profile_nbgrader'\n",
      "[AutogradeApp] Converting notebook submitted/Bitdiddle/Problem 1.ipynb to assignment\n",
      "[AutogradeApp] Support files will be in Problem 1_files/\n",
      "[AutogradeApp] Student ID: Bitdiddle\n",
      "[AutogradeApp] WARNING | Checksum for grade cell correct_squares has changed!\n",
      "[AutogradeApp] WARNING | Checksum for grade cell correct_sum_of_squares has changed!\n",
      "[AutogradeApp] WARNING | Checksum for grade cell plot_axis_limits has changed!\n",
      "[AutogradeApp] WARNING | Checksum for grade cell plot_data has changed!\n",
      "[AutogradeApp] Executing notebook with kernel: python3\n",
      "[AutogradeApp] Writing 37064 bytes to autograded/Bitdiddle/Problem 1.ipynb\n",
      "[AutogradeApp] Converting notebook submitted/Bitdiddle/Problem 2.ipynb to assignment\n",
      "[AutogradeApp] Support files will be in Problem 2_files/\n",
      "[AutogradeApp] Student ID: Bitdiddle\n",
      "[AutogradeApp] Executing notebook with kernel: python3\n",
      "[AutogradeApp] Writing 2833 bytes to autograded/Bitdiddle/Problem 2.ipynb\n",
      "[AutogradeApp] Using existing profile dir: '/home/travis/.ipython/profile_nbgrader'\n",
      "[AutogradeApp] Converting notebook submitted/Hacker/Problem 1.ipynb to assignment\n",
      "[AutogradeApp] Support files will be in Problem 1_files/\n",
      "[AutogradeApp] Student ID: Hacker\n",
      "[AutogradeApp] Executing notebook with kernel: python3\n",
      "[AutogradeApp] Writing 24877 bytes to autograded/Hacker/Problem 1.ipynb\n",
      "[AutogradeApp] Converting notebook submitted/Hacker/Problem 2.ipynb to assignment\n",
      "[AutogradeApp] Support files will be in Problem 2_files/\n",
      "[AutogradeApp] Student ID: Hacker\n",
      "[AutogradeApp] Executing notebook with kernel: python3\n",
      "[AutogradeApp] Writing 2925 bytes to autograded/Hacker/Problem 2.ipynb\n"
     ]
    }
   ],
   "source": [
    "%%bash\n",
    "\n",
    "for student_id in $(ls submitted); do\n",
    "    nbgrader autograde submitted/$student_id/*.ipynb \\\n",
    "        --build-dir=autograded/$student_id \\\n",
    "        --student=$student_id \\\n",
    "        --assignment=\"Problem Set 1\" \\\n",
    "        --db=\"sqlite:////tmp/nbgrader_example.db\" \\\n",
    "        --overwrite-cells\n",
    "done"
   ]
  },
  {
   "cell_type": "markdown",
   "metadata": {},
   "source": [
    "Notice that for Ben Bitdiddle's submission for `Problem 1`, there are some cells that changed! If we look at his submission, we'll see that he actually commented out some of the test cell code, perhaps in an attempt to \"trick\" the grader. However, because we had saved the checksums and cell source in our database, we were able to overwrite his changes and grade his assignment with the correct tests"
   ]
  }
 ],
 "metadata": {
  "kernelspec": {
   "display_name": "Python 3",
   "language": "python",
   "name": "python3"
  },
  "language_info": {
   "codemirror_mode": {
    "name": "ipython",
    "version": 3
   },
   "file_extension": ".py",
   "mimetype": "text/x-python",
   "name": "python",
   "nbconvert_exporter": "python",
   "pygments_lexer": "ipython3",
   "version": "3.4.2"
  }
 },
 "nbformat": 4,
 "nbformat_minor": 0
}