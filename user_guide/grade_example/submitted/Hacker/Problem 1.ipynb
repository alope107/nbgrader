{
 "cells": [
  {
   "cell_type": "markdown",
   "metadata": {
    "nbgrader": {
     "cell_type": "release"
    }
   },
   "source": [
    "Before you turn this problem in, make sure everything runs as expected. First, **restart the kernel** (in the menubar, select Kernel$\\rightarrow$Restart) and then **run all cells** (in the menubar, select Cell$\\rightarrow$Run All).\n",
    "\n",
    "Make sure you fill in any place that says `YOUR CODE HERE` or \"YOUR ANSWER HERE\", as well as your name and collaborators below:"
   ]
  },
  {
   "cell_type": "code",
   "execution_count": 1,
   "metadata": {
    "collapsed": false,
    "nbgrader": {
     "cell_type": "release"
    }
   },
   "outputs": [],
   "source": [
    "NAME = \"Alyssa P. Hacker\"\n",
    "COLLABORATORS = \"Ben Bitdiddle\""
   ]
  },
  {
   "cell_type": "markdown",
   "metadata": {
    "nbgrader": {}
   },
   "source": [
    "---"
   ]
  },
  {
   "cell_type": "code",
   "execution_count": 2,
   "metadata": {
    "collapsed": false,
    "nbgrader": {}
   },
   "outputs": [],
   "source": [
    "# import plotting libraries\n",
    "%matplotlib inline\n",
    "import matplotlib.pyplot as plt"
   ]
  },
  {
   "cell_type": "markdown",
   "metadata": {
    "nbgrader": {}
   },
   "source": [
    "---\n",
    "## Part A"
   ]
  },
  {
   "cell_type": "markdown",
   "metadata": {
    "nbgrader": {}
   },
   "source": [
    "Write a function that returns a list of numbers, such that $x_i=i^2$, for $1\\leq i \\leq n$. Make sure it handles the case where $n<1$ by raising a `ValueError`."
   ]
  },
  {
   "cell_type": "code",
   "execution_count": 3,
   "metadata": {
    "collapsed": false,
    "deletable": false,
    "nbgrader": {
     "solution": true
    }
   },
   "outputs": [],
   "source": [
    "def squares(n):\n",
    "    \"\"\"Compute the squares of numbers from 1 to n, such that the \n",
    "    ith element of the returned list equals i^2.\n",
    "    \n",
    "    \"\"\"\n",
    "    if n < 1:\n",
    "        raise ValueError\n",
    "    return [i ** 2 for i in range(1, n + 1)]"
   ]
  },
  {
   "cell_type": "markdown",
   "metadata": {
    "nbgrader": {}
   },
   "source": [
    "Your function should print `[1, 4, 9, 16, 25, 36, 49, 64, 81, 100]` for $n=10$. Check that it does:"
   ]
  },
  {
   "cell_type": "code",
   "execution_count": 4,
   "metadata": {
    "collapsed": false,
    "nbgrader": {}
   },
   "outputs": [
    {
     "data": {
      "text/plain": [
       "[1, 4, 9, 16, 25, 36, 49, 64, 81, 100]"
      ]
     },
     "execution_count": 4,
     "metadata": {},
     "output_type": "execute_result"
    }
   ],
   "source": [
    "squares(10)"
   ]
  },
  {
   "cell_type": "code",
   "execution_count": 5,
   "metadata": {
    "collapsed": false,
    "deletable": false,
    "nbgrader": {
     "checksum": "d8d4d9d25f76e60b311c7ceda0dc07e9",
     "grade": true,
     "grade_id": "correct_squares",
     "points": "1"
    }
   },
   "outputs": [],
   "source": [
    "\"\"\"Check that squares returns the correct output for several inputs\"\"\"\n",
    "from nose.tools import assert_equal\n",
    "assert_equal(squares(1), [1])\n",
    "assert_equal(squares(2), [1, 4])\n",
    "assert_equal(squares(10), [1, 4, 9, 16, 25, 36, 49, 64, 81, 100])\n",
    "assert_equal(squares(11), [1, 4, 9, 16, 25, 36, 49, 64, 81, 100, 121])"
   ]
  },
  {
   "cell_type": "code",
   "execution_count": 6,
   "metadata": {
    "collapsed": false,
    "deletable": false,
    "nbgrader": {
     "checksum": "2d702c7d9959a7ac93ed224854e723ac",
     "grade": true,
     "grade_id": "squares_invalid_input",
     "points": "1"
    }
   },
   "outputs": [],
   "source": [
    "\"\"\"Check that squares raises an error for invalid inputs\"\"\"\n",
    "from nose.tools import assert_raises\n",
    "assert_raises(ValueError, squares, 0)\n",
    "assert_raises(ValueError, squares, -4)"
   ]
  },
  {
   "cell_type": "markdown",
   "metadata": {
    "nbgrader": {}
   },
   "source": [
    "---\n",
    "\n",
    "## Part B"
   ]
  },
  {
   "cell_type": "markdown",
   "metadata": {
    "nbgrader": {}
   },
   "source": [
    "Using your `squares` function, write a function that computes the sum of the squares of the numbers from 1 to $n$. Your function should call the `squares` function -- it should NOT reimplement its functionality."
   ]
  },
  {
   "cell_type": "code",
   "execution_count": 7,
   "metadata": {
    "collapsed": false,
    "deletable": false,
    "nbgrader": {
     "solution": true
    }
   },
   "outputs": [],
   "source": [
    "def sum_of_squares(n):\n",
    "    \"\"\"Compute the sum of the squares of numbers from 1 to n.\"\"\"\n",
    "    return sum(squares(n))"
   ]
  },
  {
   "cell_type": "markdown",
   "metadata": {
    "nbgrader": {}
   },
   "source": [
    "The sum of squares from 1 to 10 should be 385. Verify that this is the answer you get:"
   ]
  },
  {
   "cell_type": "code",
   "execution_count": 8,
   "metadata": {
    "collapsed": false,
    "nbgrader": {}
   },
   "outputs": [
    {
     "data": {
      "text/plain": [
       "385"
      ]
     },
     "execution_count": 8,
     "metadata": {},
     "output_type": "execute_result"
    }
   ],
   "source": [
    "sum_of_squares(10)"
   ]
  },
  {
   "cell_type": "code",
   "execution_count": 9,
   "metadata": {
    "collapsed": false,
    "deletable": false,
    "nbgrader": {
     "checksum": "0107933e7a3c87104a286860f1bfb1ed",
     "grade": true,
     "grade_id": "correct_sum_of_squares",
     "points": "1"
    }
   },
   "outputs": [],
   "source": [
    "\"\"\"Check that sum_of_squares returns the correct answer for various inputs.\"\"\"\n",
    "assert_equal(sum_of_squares(1), 1)\n",
    "assert_equal(sum_of_squares(2), 5)\n",
    "assert_equal(sum_of_squares(10), 385)\n",
    "assert_equal(sum_of_squares(11), 506)"
   ]
  },
  {
   "cell_type": "code",
   "execution_count": 10,
   "metadata": {
    "collapsed": false,
    "deletable": false,
    "nbgrader": {
     "checksum": "45f8abc156fdb8ba1bc341dc751a6a75",
     "grade": true,
     "grade_id": "sum_of_squares_uses_squares",
     "points": "1"
    }
   },
   "outputs": [],
   "source": [
    "\"\"\"Check that sum_of_squares relies on squares.\"\"\"\n",
    "orig_squares = squares\n",
    "del squares\n",
    "try:\n",
    "    assert_raises(NameError, sum_of_squares, 1)\n",
    "except AssertionError:\n",
    "    raise AssertionError(\"sum_of_squares does not use squares\")\n",
    "finally:\n",
    "    squares = orig_squares"
   ]
  },
  {
   "cell_type": "markdown",
   "metadata": {
    "nbgrader": {}
   },
   "source": [
    "---\n",
    "## Part C"
   ]
  },
  {
   "cell_type": "markdown",
   "metadata": {
    "nbgrader": {}
   },
   "source": [
    "Using LaTeX math notation, write out the equation that is implemented by your `sum_of_squares` function."
   ]
  },
  {
   "cell_type": "markdown",
   "metadata": {
    "deletable": false,
    "nbgrader": {
     "grade": true,
     "grade_id": "sum_of_squares_equation",
     "points": "1",
     "solution": true
    }
   },
   "source": [
    "$\\sum_{i=1}^n i^2$"
   ]
  },
  {
   "cell_type": "markdown",
   "metadata": {
    "nbgrader": {}
   },
   "source": [
    "---\n",
    "## Part D"
   ]
  },
  {
   "cell_type": "markdown",
   "metadata": {
    "nbgrader": {}
   },
   "source": [
    "Create a plot of the sum of squares for $n=1$ to $n=15$. Make sure to appropriately label the $x$-axis and $y$-axis, and to give the plot a title. Set the $x$-axis limits to be 1 (minimum) and 15 (maximum)."
   ]
  },
  {
   "cell_type": "code",
   "execution_count": 11,
   "metadata": {
    "collapsed": false,
    "deletable": false,
    "nbgrader": {
     "solution": true
    }
   },
   "outputs": [
    {
     "data": {
      "text/plain": [
       "(1, 15)"
      ]
     },
     "execution_count": 11,
     "metadata": {},
     "output_type": "execute_result"
    },
    {
     "data": {
      "image/png": "[encoded data removed]",
      "text/plain": [
       "<matplotlib.figure.Figure at 0x10e2ecda0>"
      ]
     },
     "metadata": {},
     "output_type": "display_data"
    }
   ],
   "source": [
    "fig, ax = plt.subplots() # do not delete this line!\n",
    "s = []\n",
    "for i in range(1, 16):\n",
    "    s.append(sum_of_squares(i))\n",
    "ax.plot(range(1, 16), s)\n",
    "ax.set_xlabel(\"i\")\n",
    "ax.set_ylabel(\"sum\")\n",
    "ax.set_title(\"sum of squares\")\n",
    "ax.set_xlim(1, 15)"
   ]
  },
  {
   "cell_type": "code",
   "execution_count": 12,
   "metadata": {
    "collapsed": false,
    "deletable": false,
    "nbgrader": {
     "checksum": "2113173e2a2146a5115555aca5c6a1e7",
     "grade": true,
     "grade_id": "plot_axis_limits",
     "points": "0.1"
    }
   },
   "outputs": [],
   "source": [
    "\"\"\"Check that the axis limits are correct.\"\"\"\n",
    "assert_equal(ax.get_xlim(), (1.0, 15.0))"
   ]
  },
  {
   "cell_type": "code",
   "execution_count": 13,
   "metadata": {
    "collapsed": false,
    "deletable": false,
    "nbgrader": {
     "checksum": "2d29497e8cfd62617a182c185892d248",
     "grade": true,
     "grade_id": "plot_labels",
     "points": "0.2"
    }
   },
   "outputs": [],
   "source": [
    "\"\"\"Check that the axis labels and title are set.\"\"\"\n",
    "assert ax.get_xlabel() != \"\", \"xlabel not set\"\n",
    "assert ax.get_ylabel() != \"\", \"ylabel not set\"\n",
    "assert ax.get_title() != \"\", \"title not set\""
   ]
  },
  {
   "cell_type": "code",
   "execution_count": 14,
   "metadata": {
    "collapsed": false,
    "deletable": false,
    "nbgrader": {
     "checksum": "543e5188d9c5d54c23fc31bebc45c144",
     "grade": true,
     "grade_id": "plot_data",
     "points": "0.2"
    }
   },
   "outputs": [],
   "source": [
    "\"\"\"Check that the correct data was used.\"\"\"\n",
    "lines = ax.get_lines()\n",
    "assert_equal(len(lines), 1)\n",
    "\n",
    "# check the x-axis data\n",
    "xdata = lines[0].get_xdata()\n",
    "xdata_correct = np.arange(1, 16)\n",
    "assert_equal(xdata.shape, xdata_correct.shape)\n",
    "assert (xdata == xdata_correct).all()\n",
    "\n",
    "# check the y-axis data\n",
    "ydata = lines[0].get_ydata()\n",
    "ydata_correct = np.array([sum_of_squares(x) for x in xdata])\n",
    "assert_equal(ydata.shape, ydata_correct.shape)\n",
    "assert (ydata == ydata_correct).all()"
   ]
  }
 ],
 "metadata": {
  "kernelspec": {
   "display_name": "IPython (Python 3)",
   "name": "python3"
  },
  "language_info": {
   "codemirror_mode": {
    "name": "ipython",
    "version": 3
   },
   "file_extension": ".py",
   "mimetype": "text/x-python",
   "name": "python",
   "nbconvert_exporter": "python",
   "pygments_lexer": "ipython3",
   "version": "3.4.2"
  }
 },
 "nbformat": 4,
 "nbformat_minor": 0
}