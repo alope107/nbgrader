{
 "cells": [
  {
   "cell_type": "markdown",
   "metadata": {},
   "source": [
    "# Installing"
   ]
  },
  {
   "cell_type": "markdown",
   "metadata": {},
   "source": [
    "To install nbgrader, clone the git repository and then run `python\n",
    "setup.py install` from the root of the repository:"
   ]
  },
  {
   "cell_type": "markdown",
   "metadata": {},
   "source": [
    "```bash\n",
    "git clone https://github.com/jupyter/nbgrader.git\n",
    "cd nbgrader\n",
    "python setup.py install\n",
    "```"
   ]
  },
  {
   "cell_type": "markdown",
   "metadata": {},
   "source": [
    "You can install and activate nbgrader assignment toolbar extension with:"
   ]
  },
  {
   "cell_type": "code",
   "execution_count": 1,
   "metadata": {
    "collapsed": false
   },
   "outputs": [
    {
     "name": "stderr",
     "output_type": "stream",
     "text": [
      "Traceback (most recent call last):\n",
      "  File \"/opt/python/3.4.2/lib/python3.4/runpy.py\", line 170, in _run_module_as_main\n",
      "    \"__main__\", mod_spec)\n",
      "  File \"/opt/python/3.4.2/lib/python3.4/runpy.py\", line 85, in _run_code\n",
      "    exec(code, run_globals)\n",
      "  File \"/home/travis/virtualenv/python3.4.2/lib/python3.4/site-packages/nbgrader/__main__.py\", line 2, in <module>\n",
      "    main()\n",
      "  File \"/home/travis/virtualenv/python3.4.2/lib/python3.4/site-packages/nbgrader/install.py\", line 177, in main\n",
      "    verbose=args.verbose,\n",
      "  File \"/home/travis/virtualenv/python3.4.2/lib/python3.4/site-packages/nbgrader/install.py\", line 47, in install\n",
      "    nbextensions_dir=nbextensions_dir\n",
      "  File \"/home/travis/virtualenv/python3.4.2/lib/python3.4/site-packages/IPython/html/nbextensions.py\", line 176, in install_nbextension\n",
      "    ensure_dir_exists(nbext)\n",
      "  File \"/home/travis/virtualenv/python3.4.2/lib/python3.4/site-packages/IPython/utils/path.py\", line 588, in ensure_dir_exists\n",
      "    os.makedirs(path, mode=mode)\n",
      "  File \"/home/travis/virtualenv/python3.4.2/lib/python3.4/os.py\", line 227, in makedirs\n",
      "    makedirs(head, mode, exist_ok)\n",
      "  File \"/home/travis/virtualenv/python3.4.2/lib/python3.4/os.py\", line 237, in makedirs\n",
      "    mkdir(name, mode)\n",
      "PermissionError: [Errno 13] Permission denied: '/usr/local/share/jupyter'\n"
     ]
    }
   ],
   "source": [
    "%%bash\n",
    "python -m nbgrader --install --activate default"
   ]
  },
  {
   "cell_type": "markdown",
   "metadata": {},
   "source": [
    "Where `default` is the name of the profile you want to use for creating assignments. \n",
    "By default the extension will by symlink, so you shouldn't need to reinstalling it after upgrading nbgrader. \n",
    "Use `--no-symlink` to actually copy the file."
   ]
  },
  {
   "cell_type": "markdown",
   "metadata": {},
   "source": [
    "To get help and see all the options you can pass while installing/activating nbgrader, use:"
   ]
  },
  {
   "cell_type": "code",
   "execution_count": 2,
   "metadata": {
    "collapsed": false
   },
   "outputs": [
    {
     "name": "stdout",
     "output_type": "stream",
     "text": [
      "usage: python -m nbgrader [-h] [--install] [--activate] [--deactivate] [-v]\n",
      "                          [--user] [--no-symlink] [--path PATH]\n",
      "                          [--prefix PREFIX]\n",
      "                          [<profile_name>]\n",
      "\n",
      "Install and activate nbgrader notebook extension for a given profile\n",
      "\n",
      "positional arguments:\n",
      "  <profile_name>\n",
      "\n",
      "optional arguments:\n",
      "  -h, --help       show this help message and exit\n",
      "  --install        Install nbgrader notebook extension for given profile\n",
      "  --activate       Activate nbgrader notebook extension for given profile\n",
      "  --deactivate     Deactivate nbgrader extension for given profile\n",
      "  -v, --verbose    Increase verbosity\n",
      "  --user           Force install in user land\n",
      "  --no-symlink     Do not symlink at install time, but copy the files\n",
      "  --path PATH      Explicit path to the ipython-dir to use\n",
      "  --prefix PREFIX  Prefix where to install extension\n"
     ]
    }
   ],
   "source": [
    "%%bash\n",
    "python -m nbgrader --help"
   ]
  }
 ],
 "metadata": {},
 "nbformat": 4,
 "nbformat_minor": 0
}