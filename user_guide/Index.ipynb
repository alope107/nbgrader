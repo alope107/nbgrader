{
 "cells": [
  {
   "cell_type": "markdown",
   "metadata": {},
   "source": [
    "# User guide for `nbgrader`"
   ]
  },
  {
   "cell_type": "markdown",
   "metadata": {},
   "source": [
    "1. [Installing nbgrader](1 - Installing.ipynb)\n",
    "2. [Developing assignments with the assignment toolbar](2 - Developing assignments.ipynb)\n",
    "3. [Releasing an assignment](3 - Releasing assignments.ipynb)\n",
    "4. [Autograde a students solution](4 - Autograding.ipynb)\n",
    "5. [Manually grading a solution](5 - Manual grading.ipynb)"
   ]
  }
 ],
 "metadata": {
  "kernelspec": {
   "display_name": "IPython (Python 3)",
   "name": "python3"
  },
  "language_info": {
   "codemirror_mode": {
    "name": "ipython",
    "version": 3
   },
   "mimetype": "text/x-python",
   "name": "python",
   "pygments_lexer": "ipython3"
  }
 },
 "nbformat": 4,
 "nbformat_minor": 0
}