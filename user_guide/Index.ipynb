{
 "cells": [
  {
   "cell_type": "markdown",
   "metadata": {},
   "source": [
    "# User guide for `nbgrader`"
   ]
  },
  {
   "cell_type": "markdown",
   "metadata": {},
   "source": [
    "1. [The philosophy and the approach](1 - Philosophy.ipynb)\n",
    "2. [Developing assignments with the assignment toolbar](2 - Developing assignments.ipynb)\n",
    "3. [Releasing an assignment](3 - Releasing assignments.ipynb)\n",
    "4. [Autograde a students solution](4 - Autograding.ipynb)\n",
    "5. [Manually grading a solution](5 - Manual grading.ipynb)\n",
    "6. [Returning feedback](6 - Returning feedback.ipynb)"
   ]
  }
 ],
 "metadata": {},
 "nbformat": 4,
 "nbformat_minor": 0
}