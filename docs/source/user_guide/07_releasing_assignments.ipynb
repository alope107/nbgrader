{
 "cells": [
  {
   "cell_type": "markdown",
   "metadata": {},
   "source": [
    "# Releasing assignments"
   ]
  },
  {
   "cell_type": "raw",
   "metadata": {},
   "source": [
    ".. seealso::\n",
    "\n",
    "    :doc:`03_generating_assignments`\n",
    "        Details on generating assignments\n",
    "\n",
    "    :doc:`/command_line_tools/nbgrader-release`\n",
    "        Command line options for ``nbgrader release``\n",
    "\n",
    "    :doc:`/command_line_tools/nbgrader-list`\n",
    "        Command line options for ``nbgrader list``"
   ]
  },
  {
   "cell_type": "markdown",
   "metadata": {},
   "source": [
    "After an assignment has been created using `nbgrader assign`, the instructor must actually release that assignment to students. If the class is being taught on a single filesystem, then the instructor may use `nbgrader release` to copy the assignment files to a shared location on the filesystem for students to then download.\n",
    "\n",
    "First, we must specify a few configuration options. We'll need to use these a few times, so we'll create a `nbgrader_config.py` file that will get automatically loaded when we run `nbgrader`:"
   ]
  },
  {
   "cell_type": "code",
   "execution_count": 1,
   "metadata": {
    "collapsed": false
   },
   "outputs": [
    {
     "name": "stdout",
     "output_type": "stream",
     "text": [
      "Writing nbgrader_config.py\n"
     ]
    }
   ],
   "source": [
    "%%file nbgrader_config.py\n",
    "\n",
    "c = get_config()\n",
    "\n",
    "c.NbGraderConfig.course_id = \"example_course\"\n",
    "c.TransferApp.exchange_directory = \"/tmp/exchange\""
   ]
  },
  {
   "cell_type": "markdown",
   "metadata": {},
   "source": [
    "In the config file, we've specified the \"exchange\" directory to be `/tmp/exchange`. This directory must exist before running `nbgrader`, so we'll first create it:"
   ]
  },
  {
   "cell_type": "code",
   "execution_count": 2,
   "metadata": {
    "collapsed": false
   },
   "outputs": [],
   "source": [
    "%%bash\n",
    "\n",
    "# remove existing directory, so we can start fresh for demo purposes\n",
    "rm -rf /tmp/exchange\n",
    "\n",
    "# create the exchange directory, with write permissions for everyone\n",
    "mkdir /tmp/exchange\n",
    "chmod og+w /tmp/exchange"
   ]
  },
  {
   "cell_type": "markdown",
   "metadata": {},
   "source": [
    "Now that we have the directory created, we can actually run `nbgrader release`:"
   ]
  },
  {
   "cell_type": "code",
   "execution_count": 3,
   "metadata": {
    "collapsed": false
   },
   "outputs": [
    {
     "name": "stderr",
     "output_type": "stream",
     "text": [
      "[ReleaseApp | INFO] Source: /home/travis/build/jupyter/nbgrader/docs/source/user_guide/release/Problem Set 1\n",
      "[ReleaseApp | INFO] Destination: /tmp/exchange/example_course/outbound/Problem Set 1\n",
      "[ReleaseApp | INFO] Released as: example_course Problem Set 1\n"
     ]
    }
   ],
   "source": [
    "%%bash\n",
    "\n",
    "nbgrader release \"Problem Set 1\""
   ]
  },
  {
   "cell_type": "markdown",
   "metadata": {},
   "source": [
    "Finally, you can verify that the assignment has been appropriatel released by running the `nbgrader list` command:"
   ]
  },
  {
   "cell_type": "code",
   "execution_count": 4,
   "metadata": {
    "collapsed": false
   },
   "outputs": [
    {
     "name": "stderr",
     "output_type": "stream",
     "text": [
      "[ListApp | INFO] Released assignments:\n",
      "[ListApp | INFO] example_course Problem Set 1\n"
     ]
    }
   ],
   "source": [
    "%%bash\n",
    "\n",
    "nbgrader list"
   ]
  }
 ],
 "metadata": {},
 "nbformat": 4,
 "nbformat_minor": 0
}