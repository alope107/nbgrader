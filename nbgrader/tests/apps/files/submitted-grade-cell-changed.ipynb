{
 "cells": [
  {
   "cell_type": "code",
   "execution_count": null,
   "metadata": {
    "collapsed": true,
    "deletable": false,
    "nbgrader": {
     "checksum": "3f6c8864859cbb5805a0024cdaadbbb2",
     "grade_id": "set_a",
     "solution": true
    }
   },
   "outputs": [],
   "source": [
    "# YOUR CODE HERE\n",
    "raise NotImplementedError()"
   ]
  },
  {
   "cell_type": "code",
   "execution_count": null,
   "metadata": {
    "collapsed": true,
    "deletable": false,
    "nbgrader": {
     "checksum": "3c49ba2e8db33c0c516fcad78864348a",
     "grade": true,
     "grade_id": "foo",
     "points": 1
    }
   },
   "outputs": [],
   "source": [
    "print(\"Success!\")"
   ]
  },
  {
   "cell_type": "code",
   "execution_count": null,
   "metadata": {
    "collapsed": true,
    "deletable": false,
    "nbgrader": {
     "checksum": "48b3696993dd34d7a54250f26f67acc9",
     "grade": true,
     "grade_id": "bar",
     "points": 1
    }
   },
   "outputs": [],
   "source": [
    "#assert a == 1"
   ]
  },
  {
   "cell_type": "markdown",
   "metadata": {
    "deletable": false,
    "nbgrader": {
     "checksum": "81dd7bc31e1c965b55508d5ad09f1545",
     "grade": true,
     "grade_id": "baz",
     "points": 2,
     "solution": true
    }
   },
   "source": [
    "YOUR ANSWER HERE"
   ]
  },
  {
   "cell_type": "code",
   "execution_count": null,
   "metadata": {
    "collapsed": true,
    "nbgrader": {
     "checksum": "1fb404d0e07daf29d82af5e26ef051f4",
     "grade": true,
     "grade_id": "quux",
     "points": 3,
     "solution": true
    }
   },
   "outputs": [],
   "source": [
    "# YOUR CODE HERE\n",
    "raise NotImplementedError()"
   ]
  }
 ],
 "metadata": {},
 "nbformat": 4,
 "nbformat_minor": 0
}
